{
 "cells": [
  {
   "cell_type": "markdown",
   "metadata": {},
   "source": [
    "# Исследование продаж игр\n",
    "\n",
    "В нашем распоряжении находятся взятые из открытых источников данные о продажах игр, оценки пользователей и экспертов.\n",
    "Задача исследования состоит в том, чтобы выделить определяющие успешность игры закономерности.\n",
    "\n",
    "**Цель исследования**\n",
    "\n",
    "- Определить факторы, оказывающие влияние на уровень успешности игры.\n",
    "- Выделить из них те, чьё влияние наибольшее.\n",
    "\n",
    "**Ход исследования**\n",
    "\n",
    "Данные для исследования я получу из датасета `/datasets/games.csv`. О качестве данных ничего не известно, это значит, что в первую очередь необходимо будет провести обзор данных.\n",
    "\n",
    "Я проверю данные на наличие разжичного рода ошибок. Затем, на этапе предобработки данных, я поищу возможность иправить обнаруженные ошибки, которые способны привести к ложному результату. Далее я постараюсь привести данные к состоянию, в котором с ними наиболее удобно работать, и приступлю к проведению анализа данных.\n",
    "\n",
    "Таким образом, моё исследование будет состоять из следующих этапов:\n",
    "- Обзор данных\n",
    "- Предобработка данных\n",
    "- Исследовательский анализ данных\n",
    "- Определение особенностей каждой группы пользоватей\n",
    "- Проверка гипотез\n",
    "- Написание общего вывода, подведение итогов."
   ]
  },
  {
   "cell_type": "code",
   "execution_count": 598,
   "metadata": {},
   "outputs": [],
   "source": [
    "import math\n",
    "import numpy as np\n",
    "import pandas as pd\n",
    "from scipy import stats as st\n",
    "\n",
    "import matplotlib.pyplot as plt"
   ]
  },
  {
   "cell_type": "markdown",
   "metadata": {},
   "source": [
    "## 1. Открытие файла с данными и изучение основной информации"
   ]
  },
  {
   "cell_type": "code",
   "execution_count": 599,
   "metadata": {},
   "outputs": [],
   "source": [
    "data = pd.read_csv('data_prefab_project_games.csv')"
   ]
  },
  {
   "cell_type": "code",
   "execution_count": 600,
   "metadata": {},
   "outputs": [
    {
     "data": {
      "text/html": [
       "<div>\n",
       "<style scoped>\n",
       "    .dataframe tbody tr th:only-of-type {\n",
       "        vertical-align: middle;\n",
       "    }\n",
       "\n",
       "    .dataframe tbody tr th {\n",
       "        vertical-align: top;\n",
       "    }\n",
       "\n",
       "    .dataframe thead th {\n",
       "        text-align: right;\n",
       "    }\n",
       "</style>\n",
       "<table border=\"1\" class=\"dataframe\">\n",
       "  <thead>\n",
       "    <tr style=\"text-align: right;\">\n",
       "      <th></th>\n",
       "      <th>Name</th>\n",
       "      <th>Platform</th>\n",
       "      <th>Year_of_Release</th>\n",
       "      <th>Genre</th>\n",
       "      <th>NA_sales</th>\n",
       "      <th>EU_sales</th>\n",
       "      <th>JP_sales</th>\n",
       "      <th>Other_sales</th>\n",
       "      <th>Critic_Score</th>\n",
       "      <th>User_Score</th>\n",
       "      <th>Rating</th>\n",
       "    </tr>\n",
       "  </thead>\n",
       "  <tbody>\n",
       "    <tr>\n",
       "      <th>0</th>\n",
       "      <td>Wii Sports</td>\n",
       "      <td>Wii</td>\n",
       "      <td>2006.0</td>\n",
       "      <td>Sports</td>\n",
       "      <td>41.36</td>\n",
       "      <td>28.96</td>\n",
       "      <td>3.77</td>\n",
       "      <td>8.45</td>\n",
       "      <td>76.0</td>\n",
       "      <td>8</td>\n",
       "      <td>E</td>\n",
       "    </tr>\n",
       "    <tr>\n",
       "      <th>1</th>\n",
       "      <td>Super Mario Bros.</td>\n",
       "      <td>NES</td>\n",
       "      <td>1985.0</td>\n",
       "      <td>Platform</td>\n",
       "      <td>29.08</td>\n",
       "      <td>3.58</td>\n",
       "      <td>6.81</td>\n",
       "      <td>0.77</td>\n",
       "      <td>NaN</td>\n",
       "      <td>NaN</td>\n",
       "      <td>NaN</td>\n",
       "    </tr>\n",
       "    <tr>\n",
       "      <th>2</th>\n",
       "      <td>Mario Kart Wii</td>\n",
       "      <td>Wii</td>\n",
       "      <td>2008.0</td>\n",
       "      <td>Racing</td>\n",
       "      <td>15.68</td>\n",
       "      <td>12.76</td>\n",
       "      <td>3.79</td>\n",
       "      <td>3.29</td>\n",
       "      <td>82.0</td>\n",
       "      <td>8.3</td>\n",
       "      <td>E</td>\n",
       "    </tr>\n",
       "    <tr>\n",
       "      <th>3</th>\n",
       "      <td>Wii Sports Resort</td>\n",
       "      <td>Wii</td>\n",
       "      <td>2009.0</td>\n",
       "      <td>Sports</td>\n",
       "      <td>15.61</td>\n",
       "      <td>10.93</td>\n",
       "      <td>3.28</td>\n",
       "      <td>2.95</td>\n",
       "      <td>80.0</td>\n",
       "      <td>8</td>\n",
       "      <td>E</td>\n",
       "    </tr>\n",
       "    <tr>\n",
       "      <th>4</th>\n",
       "      <td>Pokemon Red/Pokemon Blue</td>\n",
       "      <td>GB</td>\n",
       "      <td>1996.0</td>\n",
       "      <td>Role-Playing</td>\n",
       "      <td>11.27</td>\n",
       "      <td>8.89</td>\n",
       "      <td>10.22</td>\n",
       "      <td>1.00</td>\n",
       "      <td>NaN</td>\n",
       "      <td>NaN</td>\n",
       "      <td>NaN</td>\n",
       "    </tr>\n",
       "  </tbody>\n",
       "</table>\n",
       "</div>"
      ],
      "text/plain": [
       "                       Name Platform  Year_of_Release         Genre  NA_sales  \\\n",
       "0                Wii Sports      Wii           2006.0        Sports     41.36   \n",
       "1         Super Mario Bros.      NES           1985.0      Platform     29.08   \n",
       "2            Mario Kart Wii      Wii           2008.0        Racing     15.68   \n",
       "3         Wii Sports Resort      Wii           2009.0        Sports     15.61   \n",
       "4  Pokemon Red/Pokemon Blue       GB           1996.0  Role-Playing     11.27   \n",
       "\n",
       "   EU_sales  JP_sales  Other_sales  Critic_Score User_Score Rating  \n",
       "0     28.96      3.77         8.45          76.0          8      E  \n",
       "1      3.58      6.81         0.77           NaN        NaN    NaN  \n",
       "2     12.76      3.79         3.29          82.0        8.3      E  \n",
       "3     10.93      3.28         2.95          80.0          8      E  \n",
       "4      8.89     10.22         1.00           NaN        NaN    NaN  "
      ]
     },
     "metadata": {},
     "output_type": "display_data"
    },
    {
     "name": "stdout",
     "output_type": "stream",
     "text": [
      "<class 'pandas.core.frame.DataFrame'>\n",
      "RangeIndex: 16715 entries, 0 to 16714\n",
      "Data columns (total 11 columns):\n",
      " #   Column           Non-Null Count  Dtype  \n",
      "---  ------           --------------  -----  \n",
      " 0   Name             16713 non-null  object \n",
      " 1   Platform         16715 non-null  object \n",
      " 2   Year_of_Release  16446 non-null  float64\n",
      " 3   Genre            16713 non-null  object \n",
      " 4   NA_sales         16715 non-null  float64\n",
      " 5   EU_sales         16715 non-null  float64\n",
      " 6   JP_sales         16715 non-null  float64\n",
      " 7   Other_sales      16715 non-null  float64\n",
      " 8   Critic_Score     8137 non-null   float64\n",
      " 9   User_Score       10014 non-null  object \n",
      " 10  Rating           9949 non-null   object \n",
      "dtypes: float64(6), object(5)\n",
      "memory usage: 1.4+ MB\n",
      "None\n",
      "\n",
      "Число дубликатов: 0\n",
      "\n",
      "Размер датасета: 16715 строк и 11 столбцов\n"
     ]
    }
   ],
   "source": [
    "display(data.head())\n",
    "print(data.info())\n",
    "print('\\nЧисло дубликатов:', data.duplicated().sum())\n",
    "print(f'\\nРазмер датасета: {data.shape[0]} строк и {data.shape[1]} столбцов')"
   ]
  },
  {
   "cell_type": "markdown",
   "metadata": {},
   "source": [
    "Можно заключить, что полностью данные содержатся в столбцах, которые содержат данные о платформе и о продажах: `Platform`, `NA_sales`, `EU_sales`, `JP_sales`, `Other_sales`. В остальных данных есть пропущенные значения, особенно много их в данных о различного рода оценках: `Critic_Score`, `User_Score`, `Rating`."
   ]
  },
  {
   "cell_type": "code",
   "execution_count": 601,
   "metadata": {},
   "outputs": [
    {
     "name": "stdout",
     "output_type": "stream",
     "text": [
      "count     16715\n",
      "unique       31\n",
      "top         PS2\n",
      "freq       2161\n",
      "Name: Platform, dtype: object\n"
     ]
    },
    {
     "data": {
      "text/plain": [
       "<AxesSubplot:title={'center':'Количество данных по платформам'}, xlabel='Платформы', ylabel='Данные'>"
      ]
     },
     "execution_count": 601,
     "metadata": {},
     "output_type": "execute_result"
    },
    {
     "data": {
      "image/png": "[encoded data removed]",
      "text/plain": [
       "<Figure size 720x432 with 1 Axes>"
      ]
     },
     "metadata": {
      "needs_background": "light"
     },
     "output_type": "display_data"
    }
   ],
   "source": [
    "print(data['Platform'].describe())\n",
    "data['Platform'].value_counts().plot.bar(title = 'Количество данных по платформам',\n",
    "                                         xlabel = 'Платформы',\n",
    "                                         ylabel = 'Данные',\n",
    "                                         figsize = (10, 6),\n",
    "                                         grid = True)"
   ]
  },
  {
   "cell_type": "code",
   "execution_count": 602,
   "metadata": {},
   "outputs": [
    {
     "name": "stdout",
     "output_type": "stream",
     "text": [
      "count    16446.000000\n",
      "mean      2006.484616\n",
      "std          5.877050\n",
      "min       1980.000000\n",
      "25%       2003.000000\n",
      "50%       2007.000000\n",
      "75%       2010.000000\n",
      "max       2016.000000\n",
      "Name: Year_of_Release, dtype: float64\n"
     ]
    },
    {
     "data": {
      "text/plain": [
       "<AxesSubplot:title={'center':'Количество данных по годам'}, ylabel='Frequency'>"
      ]
     },
     "execution_count": 602,
     "metadata": {},
     "output_type": "execute_result"
    },
    {
     "data": {
      "image/png": "[encoded data removed]",
      "text/plain": [
       "<Figure size 720x432 with 1 Axes>"
      ]
     },
     "metadata": {
      "needs_background": "light"
     },
     "output_type": "display_data"
    }
   ],
   "source": [
    "print(data['Year_of_Release'].describe())\n",
    "data['Year_of_Release'].plot.hist(title = 'Количество данных по годам',\n",
    "                                  bins = 18,\n",
    "                                  xlabel = 'Год',\n",
    "                                  ylabel = 'Данные',\n",
    "                                  figsize = (10, 6),\n",
    "                                  grid = True)"
   ]
  },
  {
   "cell_type": "code",
   "execution_count": 603,
   "metadata": {},
   "outputs": [
    {
     "name": "stdout",
     "output_type": "stream",
     "text": [
      "count      16713\n",
      "unique        12\n",
      "top       Action\n",
      "freq        3369\n",
      "Name: Genre, dtype: object\n"
     ]
    },
    {
     "data": {
      "text/plain": [
       "<AxesSubplot:title={'center':'Количество данных по жанрам'}, xlabel='Жанры', ylabel='Данные'>"
      ]
     },
     "execution_count": 603,
     "metadata": {},
     "output_type": "execute_result"
    },
    {
     "data": {
      "image/png": "[encoded data removed]",
      "text/plain": [
       "<Figure size 720x432 with 1 Axes>"
      ]
     },
     "metadata": {
      "needs_background": "light"
     },
     "output_type": "display_data"
    }
   ],
   "source": [
    "print(data['Genre'].describe())\n",
    "data['Genre'].value_counts().plot.bar(title = 'Количество данных по жанрам',\n",
    "                                         xlabel = 'Жанры',\n",
    "                                         ylabel = 'Данные',\n",
    "                                         figsize = (10, 6),\n",
    "                                         grid = True)"
   ]
  },
  {
   "cell_type": "markdown",
   "metadata": {},
   "source": [
    "**Первые выводы по данным**\n",
    "\n",
    "Данные однозначно нуждаются в обработке. Обнаружено достаточно много пропущенных значений, типы данных не везде указаны верно. Названия столбцов необходимо привести к классическому виду.\n",
    "\n",
    "Данные по платформам и жанрам собраны неравномерно. С течением времени количество игр увеличивалось многократно."
   ]
  },
  {
   "cell_type": "markdown",
   "metadata": {},
   "source": [
    "## 2. Предобработка данных"
   ]
  },
  {
   "cell_type": "markdown",
   "metadata": {},
   "source": [
    "### Преобразуем названия столбцов"
   ]
  },
  {
   "cell_type": "code",
   "execution_count": 604,
   "metadata": {},
   "outputs": [
    {
     "data": {
      "text/plain": [
       "Index(['name', 'platform', 'year_of_release', 'genre', 'na_sales', 'eu_sales',\n",
       "       'jp_sales', 'other_sales', 'critic_score', 'user_score', 'rating'],\n",
       "      dtype='object')"
      ]
     },
     "execution_count": 604,
     "metadata": {},
     "output_type": "execute_result"
    }
   ],
   "source": [
    "data.columns = data.columns.str.lower()\n",
    "data.columns"
   ]
  },
  {
   "cell_type": "markdown",
   "metadata": {},
   "source": [
    "### Обработка дубликатов"
   ]
  },
  {
   "cell_type": "code",
   "execution_count": 605,
   "metadata": {},
   "outputs": [
    {
     "data": {
      "text/plain": [
       "0"
      ]
     },
     "execution_count": 605,
     "metadata": {},
     "output_type": "execute_result"
    }
   ],
   "source": [
    "data.duplicated().sum()"
   ]
  },
  {
   "cell_type": "code",
   "execution_count": 606,
   "metadata": {},
   "outputs": [
    {
     "data": {
      "text/plain": [
       "5155"
      ]
     },
     "execution_count": 606,
     "metadata": {},
     "output_type": "execute_result"
    }
   ],
   "source": [
    "len(data['name'])-len(data['name'].drop_duplicates())"
   ]
  },
  {
   "cell_type": "markdown",
   "metadata": {},
   "source": [
    "В данных не обнаружено явных дубликатов. Обработка неявных дубликатов может проводиться только по столбцу `name`, однако обрабатывать и устранять повторяющиеся значения не имеет смысла, так как крайне маловероятно, что значения действительно являются дубликатом."
   ]
  },
  {
   "cell_type": "markdown",
   "metadata": {},
   "source": [
    "### Преобразуем типы данных\n",
    "\n",
    "Необходимо преобразовать типы данных в двух столбцах:\n",
    "\n",
    "1. year_of_release нужно заменить с `float` на `int`, так как в рассматриваемом столбце содержатся исключительно данные о годе выхода игры, нет смысла преобразовывать в формат `datetime`.\n",
    "2. user_score нужно заменить с `str` на `float`, потому что в нём содержатся данные об оценке пользователя, представленные в числовом формате."
   ]
  },
  {
   "cell_type": "code",
   "execution_count": 607,
   "metadata": {},
   "outputs": [],
   "source": [
    "# Удалим пустые значения, так как значений немного, однако такая характеристика, как год выхода крайне важна\n",
    "# data['year_of_release'].fillna(0, inplace = True)\n",
    "data = data.dropna(subset=['year_of_release']).reset_index(drop = True)\n",
    "# data['year_of_release'].unique()\n",
    "data['year_of_release'] = data['year_of_release'].astype(int)"
   ]
  },
  {
   "cell_type": "markdown",
   "metadata": {},
   "source": [
    "При попытке преобразовать тип данных в столбце `user_score` при помощи `data['user_score'] = data['user_score'].astype(float)`, обнаружились строки, содержащие значения `tbd`, скорее всего это означает \"to be determined\" - буквально, \"предстоит определисть\" Рассмотрим эти строки подробнее:"
   ]
  },
  {
   "cell_type": "code",
   "execution_count": 608,
   "metadata": {},
   "outputs": [
    {
     "name": "stdout",
     "output_type": "stream",
     "text": [
      "Количество неопределённых оценок: 2376 \n",
      "Процент неопределённых от общего числа оценок: 24.149% \n",
      "Процент строк с неопределёнными оценками пользователей от общего числа строк: 14.447%\n"
     ]
    }
   ],
   "source": [
    "tbd = data[data['user_score'] == 'tbd']['user_score'].count()\n",
    "not_null = data['user_score'].count()\n",
    "print('Количество неопределённых оценок:', tbd,\n",
    "      '\\nПроцент неопределённых от общего числа оценок: {:.3%}'.format(tbd/not_null),\n",
    "      '\\nПроцент строк с неопределёнными оценками пользователей от общего числа строк: {:.3%}'.format(tbd/len(data)))"
   ]
  },
  {
   "cell_type": "markdown",
   "metadata": {},
   "source": [
    "Количество таких строк, содержащих `tbd` составляет 14.5% от их общего числа в наборе данных и 24% от общего числа оценок пользователей. Это достаточно большие проценты и просто избавится от них, так, что бы это не отразилось на результате, не получится. Рассмотрим, почему такие данные данные могли получиться, постараемся найти какие-либо особенности, в противном случае, присвоим рассматриваемым значениям тип `NaN` при помощи `np.nan`, так как такие значения в нашем случае равносильны."
   ]
  },
  {
   "cell_type": "code",
   "execution_count": 609,
   "metadata": {},
   "outputs": [
    {
     "data": {
      "text/html": [
       "<div>\n",
       "<style scoped>\n",
       "    .dataframe tbody tr th:only-of-type {\n",
       "        vertical-align: middle;\n",
       "    }\n",
       "\n",
       "    .dataframe tbody tr th {\n",
       "        vertical-align: top;\n",
       "    }\n",
       "\n",
       "    .dataframe thead th {\n",
       "        text-align: right;\n",
       "    }\n",
       "</style>\n",
       "<table border=\"1\" class=\"dataframe\">\n",
       "  <thead>\n",
       "    <tr style=\"text-align: right;\">\n",
       "      <th></th>\n",
       "      <th>name</th>\n",
       "      <th>platform</th>\n",
       "      <th>year_of_release</th>\n",
       "      <th>genre</th>\n",
       "      <th>na_sales</th>\n",
       "      <th>eu_sales</th>\n",
       "      <th>jp_sales</th>\n",
       "      <th>other_sales</th>\n",
       "      <th>critic_score</th>\n",
       "      <th>user_score</th>\n",
       "      <th>rating</th>\n",
       "    </tr>\n",
       "  </thead>\n",
       "  <tbody>\n",
       "    <tr>\n",
       "      <th>119</th>\n",
       "      <td>Zumba Fitness</td>\n",
       "      <td>Wii</td>\n",
       "      <td>2010</td>\n",
       "      <td>Sports</td>\n",
       "      <td>3.45</td>\n",
       "      <td>2.59</td>\n",
       "      <td>0.00</td>\n",
       "      <td>0.66</td>\n",
       "      <td>NaN</td>\n",
       "      <td>tbd</td>\n",
       "      <td>E</td>\n",
       "    </tr>\n",
       "    <tr>\n",
       "      <th>300</th>\n",
       "      <td>Namco Museum: 50th Anniversary</td>\n",
       "      <td>PS2</td>\n",
       "      <td>2005</td>\n",
       "      <td>Misc</td>\n",
       "      <td>2.08</td>\n",
       "      <td>1.35</td>\n",
       "      <td>0.00</td>\n",
       "      <td>0.54</td>\n",
       "      <td>61.0</td>\n",
       "      <td>tbd</td>\n",
       "      <td>E10+</td>\n",
       "    </tr>\n",
       "    <tr>\n",
       "      <th>516</th>\n",
       "      <td>Zumba Fitness 2</td>\n",
       "      <td>Wii</td>\n",
       "      <td>2011</td>\n",
       "      <td>Sports</td>\n",
       "      <td>1.51</td>\n",
       "      <td>1.03</td>\n",
       "      <td>0.00</td>\n",
       "      <td>0.27</td>\n",
       "      <td>NaN</td>\n",
       "      <td>tbd</td>\n",
       "      <td>T</td>\n",
       "    </tr>\n",
       "    <tr>\n",
       "      <th>639</th>\n",
       "      <td>uDraw Studio</td>\n",
       "      <td>Wii</td>\n",
       "      <td>2010</td>\n",
       "      <td>Misc</td>\n",
       "      <td>1.65</td>\n",
       "      <td>0.57</td>\n",
       "      <td>0.00</td>\n",
       "      <td>0.20</td>\n",
       "      <td>71.0</td>\n",
       "      <td>tbd</td>\n",
       "      <td>E</td>\n",
       "    </tr>\n",
       "    <tr>\n",
       "      <th>710</th>\n",
       "      <td>Just Dance Kids</td>\n",
       "      <td>Wii</td>\n",
       "      <td>2010</td>\n",
       "      <td>Misc</td>\n",
       "      <td>1.52</td>\n",
       "      <td>0.54</td>\n",
       "      <td>0.00</td>\n",
       "      <td>0.18</td>\n",
       "      <td>NaN</td>\n",
       "      <td>tbd</td>\n",
       "      <td>E</td>\n",
       "    </tr>\n",
       "    <tr>\n",
       "      <th>717</th>\n",
       "      <td>Dance Dance Revolution X2</td>\n",
       "      <td>PS2</td>\n",
       "      <td>2009</td>\n",
       "      <td>Simulation</td>\n",
       "      <td>1.09</td>\n",
       "      <td>0.85</td>\n",
       "      <td>0.00</td>\n",
       "      <td>0.28</td>\n",
       "      <td>NaN</td>\n",
       "      <td>tbd</td>\n",
       "      <td>E10+</td>\n",
       "    </tr>\n",
       "    <tr>\n",
       "      <th>811</th>\n",
       "      <td>The Incredibles</td>\n",
       "      <td>GBA</td>\n",
       "      <td>2004</td>\n",
       "      <td>Action</td>\n",
       "      <td>1.15</td>\n",
       "      <td>0.77</td>\n",
       "      <td>0.04</td>\n",
       "      <td>0.10</td>\n",
       "      <td>55.0</td>\n",
       "      <td>tbd</td>\n",
       "      <td>E</td>\n",
       "    </tr>\n",
       "    <tr>\n",
       "      <th>871</th>\n",
       "      <td>Who wants to be a millionaire</td>\n",
       "      <td>PC</td>\n",
       "      <td>1999</td>\n",
       "      <td>Misc</td>\n",
       "      <td>1.94</td>\n",
       "      <td>0.00</td>\n",
       "      <td>0.00</td>\n",
       "      <td>0.00</td>\n",
       "      <td>NaN</td>\n",
       "      <td>tbd</td>\n",
       "      <td>E</td>\n",
       "    </tr>\n",
       "    <tr>\n",
       "      <th>1037</th>\n",
       "      <td>Tetris Worlds</td>\n",
       "      <td>GBA</td>\n",
       "      <td>2001</td>\n",
       "      <td>Puzzle</td>\n",
       "      <td>1.25</td>\n",
       "      <td>0.39</td>\n",
       "      <td>0.00</td>\n",
       "      <td>0.06</td>\n",
       "      <td>65.0</td>\n",
       "      <td>tbd</td>\n",
       "      <td>E</td>\n",
       "    </tr>\n",
       "    <tr>\n",
       "      <th>1038</th>\n",
       "      <td>Imagine: Teacher</td>\n",
       "      <td>DS</td>\n",
       "      <td>2008</td>\n",
       "      <td>Simulation</td>\n",
       "      <td>0.70</td>\n",
       "      <td>0.82</td>\n",
       "      <td>0.00</td>\n",
       "      <td>0.19</td>\n",
       "      <td>NaN</td>\n",
       "      <td>tbd</td>\n",
       "      <td>E</td>\n",
       "    </tr>\n",
       "    <tr>\n",
       "      <th>1059</th>\n",
       "      <td>Personal Trainer: Math</td>\n",
       "      <td>DS</td>\n",
       "      <td>2007</td>\n",
       "      <td>Puzzle</td>\n",
       "      <td>0.48</td>\n",
       "      <td>1.12</td>\n",
       "      <td>0.00</td>\n",
       "      <td>0.08</td>\n",
       "      <td>63.0</td>\n",
       "      <td>tbd</td>\n",
       "      <td>E</td>\n",
       "    </tr>\n",
       "    <tr>\n",
       "      <th>1060</th>\n",
       "      <td>Game Party 3</td>\n",
       "      <td>Wii</td>\n",
       "      <td>2009</td>\n",
       "      <td>Puzzle</td>\n",
       "      <td>1.40</td>\n",
       "      <td>0.16</td>\n",
       "      <td>0.00</td>\n",
       "      <td>0.12</td>\n",
       "      <td>37.0</td>\n",
       "      <td>tbd</td>\n",
       "      <td>E</td>\n",
       "    </tr>\n",
       "    <tr>\n",
       "      <th>1079</th>\n",
       "      <td>Monsters, Inc.</td>\n",
       "      <td>GBA</td>\n",
       "      <td>2001</td>\n",
       "      <td>Adventure</td>\n",
       "      <td>0.59</td>\n",
       "      <td>0.95</td>\n",
       "      <td>0.03</td>\n",
       "      <td>0.10</td>\n",
       "      <td>NaN</td>\n",
       "      <td>tbd</td>\n",
       "      <td>E</td>\n",
       "    </tr>\n",
       "    <tr>\n",
       "      <th>1139</th>\n",
       "      <td>SpongeBob's Atlantis SquarePantis</td>\n",
       "      <td>DS</td>\n",
       "      <td>2007</td>\n",
       "      <td>Action</td>\n",
       "      <td>1.49</td>\n",
       "      <td>0.00</td>\n",
       "      <td>0.00</td>\n",
       "      <td>0.11</td>\n",
       "      <td>64.0</td>\n",
       "      <td>tbd</td>\n",
       "      <td>E</td>\n",
       "    </tr>\n",
       "    <tr>\n",
       "      <th>1187</th>\n",
       "      <td>MySims Kingdom</td>\n",
       "      <td>DS</td>\n",
       "      <td>2008</td>\n",
       "      <td>Simulation</td>\n",
       "      <td>0.80</td>\n",
       "      <td>0.59</td>\n",
       "      <td>0.01</td>\n",
       "      <td>0.16</td>\n",
       "      <td>58.0</td>\n",
       "      <td>tbd</td>\n",
       "      <td>E</td>\n",
       "    </tr>\n",
       "  </tbody>\n",
       "</table>\n",
       "</div>"
      ],
      "text/plain": [
       "                                   name platform  year_of_release       genre  \\\n",
       "119                       Zumba Fitness      Wii             2010      Sports   \n",
       "300      Namco Museum: 50th Anniversary      PS2             2005        Misc   \n",
       "516                     Zumba Fitness 2      Wii             2011      Sports   \n",
       "639                        uDraw Studio      Wii             2010        Misc   \n",
       "710                     Just Dance Kids      Wii             2010        Misc   \n",
       "717           Dance Dance Revolution X2      PS2             2009  Simulation   \n",
       "811                     The Incredibles      GBA             2004      Action   \n",
       "871       Who wants to be a millionaire       PC             1999        Misc   \n",
       "1037                      Tetris Worlds      GBA             2001      Puzzle   \n",
       "1038                   Imagine: Teacher       DS             2008  Simulation   \n",
       "1059             Personal Trainer: Math       DS             2007      Puzzle   \n",
       "1060                       Game Party 3      Wii             2009      Puzzle   \n",
       "1079                     Monsters, Inc.      GBA             2001   Adventure   \n",
       "1139  SpongeBob's Atlantis SquarePantis       DS             2007      Action   \n",
       "1187                     MySims Kingdom       DS             2008  Simulation   \n",
       "\n",
       "      na_sales  eu_sales  jp_sales  other_sales  critic_score user_score  \\\n",
       "119       3.45      2.59      0.00         0.66           NaN        tbd   \n",
       "300       2.08      1.35      0.00         0.54          61.0        tbd   \n",
       "516       1.51      1.03      0.00         0.27           NaN        tbd   \n",
       "639       1.65      0.57      0.00         0.20          71.0        tbd   \n",
       "710       1.52      0.54      0.00         0.18           NaN        tbd   \n",
       "717       1.09      0.85      0.00         0.28           NaN        tbd   \n",
       "811       1.15      0.77      0.04         0.10          55.0        tbd   \n",
       "871       1.94      0.00      0.00         0.00           NaN        tbd   \n",
       "1037      1.25      0.39      0.00         0.06          65.0        tbd   \n",
       "1038      0.70      0.82      0.00         0.19           NaN        tbd   \n",
       "1059      0.48      1.12      0.00         0.08          63.0        tbd   \n",
       "1060      1.40      0.16      0.00         0.12          37.0        tbd   \n",
       "1079      0.59      0.95      0.03         0.10           NaN        tbd   \n",
       "1139      1.49      0.00      0.00         0.11          64.0        tbd   \n",
       "1187      0.80      0.59      0.01         0.16          58.0        tbd   \n",
       "\n",
       "     rating  \n",
       "119       E  \n",
       "300    E10+  \n",
       "516       T  \n",
       "639       E  \n",
       "710       E  \n",
       "717    E10+  \n",
       "811       E  \n",
       "871       E  \n",
       "1037      E  \n",
       "1038      E  \n",
       "1059      E  \n",
       "1060      E  \n",
       "1079      E  \n",
       "1139      E  \n",
       "1187      E  "
      ]
     },
     "execution_count": 609,
     "metadata": {},
     "output_type": "execute_result"
    }
   ],
   "source": [
    "data.query('user_score == \"tbd\"').head(15)"
   ]
  },
  {
   "cell_type": "markdown",
   "metadata": {},
   "source": [
    "Какой-либо закономерности в данных выявить не удалось, значит выполним замену всех значений `tbd` на `NaN`."
   ]
  },
  {
   "cell_type": "code",
   "execution_count": 610,
   "metadata": {},
   "outputs": [
    {
     "data": {
      "text/plain": [
       "array([8. , nan, 8.3, 8.5, 6.6, 8.4, 8.6, 7.7, 6.3, 7.4, 8.2, 9. , 7.9,\n",
       "       8.1, 8.7, 7.1, 3.4, 5.3, 4.8, 3.2, 8.9, 6.4, 7.8, 7.5, 2.6, 7.2,\n",
       "       9.2, 7. , 7.3, 4.3, 7.6, 5.7, 5. , 9.1, 6.5, 8.8, 6.9, 9.4, 6.8,\n",
       "       6.1, 6.7, 5.4, 4. , 4.9, 4.5, 9.3, 6.2, 4.2, 6. , 3.7, 4.1, 5.8,\n",
       "       5.6, 5.5, 4.4, 4.6, 5.9, 3.9, 3.1, 2.9, 5.2, 3.3, 4.7, 5.1, 3.5,\n",
       "       2.5, 1.9, 3. , 2.7, 2.2, 2. , 9.5, 2.1, 3.6, 2.8, 1.8, 3.8, 0. ,\n",
       "       1.6, 9.6, 2.4, 1.7, 1.1, 0.3, 1.5, 0.7, 1.2, 2.3, 0.5, 1.3, 0.2,\n",
       "       0.6, 1.4, 0.9, 1. , 9.7])"
      ]
     },
     "execution_count": 610,
     "metadata": {},
     "output_type": "execute_result"
    }
   ],
   "source": [
    "data['user_score'].replace('tbd', np.nan, inplace = True)\n",
    "data['user_score'] = data['user_score'].astype('float')\n",
    "data['user_score'].unique()"
   ]
  },
  {
   "cell_type": "markdown",
   "metadata": {},
   "source": [
    "### Добавление нового столбца\n",
    "\n",
    "Новый столбец содержит сумму продаж во всех регионах"
   ]
  },
  {
   "cell_type": "code",
   "execution_count": 611,
   "metadata": {},
   "outputs": [
    {
     "data": {
      "text/html": [
       "<div>\n",
       "<style scoped>\n",
       "    .dataframe tbody tr th:only-of-type {\n",
       "        vertical-align: middle;\n",
       "    }\n",
       "\n",
       "    .dataframe tbody tr th {\n",
       "        vertical-align: top;\n",
       "    }\n",
       "\n",
       "    .dataframe thead th {\n",
       "        text-align: right;\n",
       "    }\n",
       "</style>\n",
       "<table border=\"1\" class=\"dataframe\">\n",
       "  <thead>\n",
       "    <tr style=\"text-align: right;\">\n",
       "      <th></th>\n",
       "      <th>name</th>\n",
       "      <th>platform</th>\n",
       "      <th>year_of_release</th>\n",
       "      <th>genre</th>\n",
       "      <th>na_sales</th>\n",
       "      <th>eu_sales</th>\n",
       "      <th>jp_sales</th>\n",
       "      <th>other_sales</th>\n",
       "      <th>total_sales</th>\n",
       "      <th>critic_score</th>\n",
       "      <th>user_score</th>\n",
       "      <th>rating</th>\n",
       "    </tr>\n",
       "  </thead>\n",
       "  <tbody>\n",
       "    <tr>\n",
       "      <th>0</th>\n",
       "      <td>Wii Sports</td>\n",
       "      <td>Wii</td>\n",
       "      <td>2006</td>\n",
       "      <td>Sports</td>\n",
       "      <td>41.36</td>\n",
       "      <td>28.96</td>\n",
       "      <td>3.77</td>\n",
       "      <td>8.45</td>\n",
       "      <td>82.54</td>\n",
       "      <td>76.0</td>\n",
       "      <td>8.0</td>\n",
       "      <td>E</td>\n",
       "    </tr>\n",
       "    <tr>\n",
       "      <th>1</th>\n",
       "      <td>Super Mario Bros.</td>\n",
       "      <td>NES</td>\n",
       "      <td>1985</td>\n",
       "      <td>Platform</td>\n",
       "      <td>29.08</td>\n",
       "      <td>3.58</td>\n",
       "      <td>6.81</td>\n",
       "      <td>0.77</td>\n",
       "      <td>40.24</td>\n",
       "      <td>NaN</td>\n",
       "      <td>NaN</td>\n",
       "      <td>NaN</td>\n",
       "    </tr>\n",
       "    <tr>\n",
       "      <th>2</th>\n",
       "      <td>Mario Kart Wii</td>\n",
       "      <td>Wii</td>\n",
       "      <td>2008</td>\n",
       "      <td>Racing</td>\n",
       "      <td>15.68</td>\n",
       "      <td>12.76</td>\n",
       "      <td>3.79</td>\n",
       "      <td>3.29</td>\n",
       "      <td>35.52</td>\n",
       "      <td>82.0</td>\n",
       "      <td>8.3</td>\n",
       "      <td>E</td>\n",
       "    </tr>\n",
       "    <tr>\n",
       "      <th>3</th>\n",
       "      <td>Wii Sports Resort</td>\n",
       "      <td>Wii</td>\n",
       "      <td>2009</td>\n",
       "      <td>Sports</td>\n",
       "      <td>15.61</td>\n",
       "      <td>10.93</td>\n",
       "      <td>3.28</td>\n",
       "      <td>2.95</td>\n",
       "      <td>32.77</td>\n",
       "      <td>80.0</td>\n",
       "      <td>8.0</td>\n",
       "      <td>E</td>\n",
       "    </tr>\n",
       "    <tr>\n",
       "      <th>4</th>\n",
       "      <td>Pokemon Red/Pokemon Blue</td>\n",
       "      <td>GB</td>\n",
       "      <td>1996</td>\n",
       "      <td>Role-Playing</td>\n",
       "      <td>11.27</td>\n",
       "      <td>8.89</td>\n",
       "      <td>10.22</td>\n",
       "      <td>1.00</td>\n",
       "      <td>31.38</td>\n",
       "      <td>NaN</td>\n",
       "      <td>NaN</td>\n",
       "      <td>NaN</td>\n",
       "    </tr>\n",
       "  </tbody>\n",
       "</table>\n",
       "</div>"
      ],
      "text/plain": [
       "                       name platform  year_of_release         genre  na_sales  \\\n",
       "0                Wii Sports      Wii             2006        Sports     41.36   \n",
       "1         Super Mario Bros.      NES             1985      Platform     29.08   \n",
       "2            Mario Kart Wii      Wii             2008        Racing     15.68   \n",
       "3         Wii Sports Resort      Wii             2009        Sports     15.61   \n",
       "4  Pokemon Red/Pokemon Blue       GB             1996  Role-Playing     11.27   \n",
       "\n",
       "   eu_sales  jp_sales  other_sales  total_sales  critic_score  user_score  \\\n",
       "0     28.96      3.77         8.45        82.54          76.0         8.0   \n",
       "1      3.58      6.81         0.77        40.24           NaN         NaN   \n",
       "2     12.76      3.79         3.29        35.52          82.0         8.3   \n",
       "3     10.93      3.28         2.95        32.77          80.0         8.0   \n",
       "4      8.89     10.22         1.00        31.38           NaN         NaN   \n",
       "\n",
       "  rating  \n",
       "0      E  \n",
       "1    NaN  \n",
       "2      E  \n",
       "3      E  \n",
       "4    NaN  "
      ]
     },
     "execution_count": 611,
     "metadata": {},
     "output_type": "execute_result"
    }
   ],
   "source": [
    "data.insert(loc = 8, \n",
    "            column = 'total_sales', \n",
    "            value = data[['na_sales', 'eu_sales', 'jp_sales', 'other_sales']].sum(axis = 1))\n",
    "data.head()"
   ]
  },
  {
   "cell_type": "markdown",
   "metadata": {},
   "source": [
    "### Обработка пустых значений"
   ]
  },
  {
   "cell_type": "code",
   "execution_count": 612,
   "metadata": {},
   "outputs": [
    {
     "data": {
      "text/plain": [
       "name                  2\n",
       "platform              0\n",
       "year_of_release       0\n",
       "genre                 2\n",
       "na_sales              0\n",
       "eu_sales              0\n",
       "jp_sales              0\n",
       "other_sales           0\n",
       "total_sales           0\n",
       "critic_score       8463\n",
       "user_score         8983\n",
       "rating             6678\n",
       "dtype: int64"
      ]
     },
     "execution_count": 612,
     "metadata": {},
     "output_type": "execute_result"
    }
   ],
   "source": [
    "data.isna().sum()"
   ]
  },
  {
   "cell_type": "markdown",
   "metadata": {},
   "source": [
    "Видим, что большинство пропусков содержится в столбцах `critic_score`, `user_score` и `rating`.<br>\n",
    "В столбцах `name` и `genre` так же содержатся пропуски, рассмотрим строки с этими значениями:"
   ]
  },
  {
   "cell_type": "code",
   "execution_count": null,
   "metadata": {},
   "outputs": [],
   "source": []
  },
  {
   "cell_type": "code",
   "execution_count": 613,
   "metadata": {},
   "outputs": [
    {
     "data": {
      "text/html": [
       "<div>\n",
       "<style scoped>\n",
       "    .dataframe tbody tr th:only-of-type {\n",
       "        vertical-align: middle;\n",
       "    }\n",
       "\n",
       "    .dataframe tbody tr th {\n",
       "        vertical-align: top;\n",
       "    }\n",
       "\n",
       "    .dataframe thead th {\n",
       "        text-align: right;\n",
       "    }\n",
       "</style>\n",
       "<table border=\"1\" class=\"dataframe\">\n",
       "  <thead>\n",
       "    <tr style=\"text-align: right;\">\n",
       "      <th></th>\n",
       "      <th>name</th>\n",
       "      <th>platform</th>\n",
       "      <th>year_of_release</th>\n",
       "      <th>genre</th>\n",
       "      <th>na_sales</th>\n",
       "      <th>eu_sales</th>\n",
       "      <th>jp_sales</th>\n",
       "      <th>other_sales</th>\n",
       "      <th>total_sales</th>\n",
       "      <th>critic_score</th>\n",
       "      <th>user_score</th>\n",
       "      <th>rating</th>\n",
       "    </tr>\n",
       "  </thead>\n",
       "  <tbody>\n",
       "    <tr>\n",
       "      <th>652</th>\n",
       "      <td>NaN</td>\n",
       "      <td>GEN</td>\n",
       "      <td>1993</td>\n",
       "      <td>NaN</td>\n",
       "      <td>1.78</td>\n",
       "      <td>0.53</td>\n",
       "      <td>0.00</td>\n",
       "      <td>0.08</td>\n",
       "      <td>2.39</td>\n",
       "      <td>NaN</td>\n",
       "      <td>NaN</td>\n",
       "      <td>NaN</td>\n",
       "    </tr>\n",
       "    <tr>\n",
       "      <th>14022</th>\n",
       "      <td>NaN</td>\n",
       "      <td>GEN</td>\n",
       "      <td>1993</td>\n",
       "      <td>NaN</td>\n",
       "      <td>0.00</td>\n",
       "      <td>0.00</td>\n",
       "      <td>0.03</td>\n",
       "      <td>0.00</td>\n",
       "      <td>0.03</td>\n",
       "      <td>NaN</td>\n",
       "      <td>NaN</td>\n",
       "      <td>NaN</td>\n",
       "    </tr>\n",
       "  </tbody>\n",
       "</table>\n",
       "</div>"
      ],
      "text/plain": [
       "      name platform  year_of_release genre  na_sales  eu_sales  jp_sales  \\\n",
       "652    NaN      GEN             1993   NaN      1.78      0.53      0.00   \n",
       "14022  NaN      GEN             1993   NaN      0.00      0.00      0.03   \n",
       "\n",
       "       other_sales  total_sales  critic_score  user_score rating  \n",
       "652           0.08         2.39           NaN         NaN    NaN  \n",
       "14022         0.00         0.03           NaN         NaN    NaN  "
      ]
     },
     "execution_count": 613,
     "metadata": {},
     "output_type": "execute_result"
    }
   ],
   "source": [
    "data[data['name'].isna()]"
   ]
  },
  {
   "cell_type": "markdown",
   "metadata": {},
   "source": [
    "Ожидаемо, что строки с пропусками в этих значениях взаимосвязаны. Пропущенные значения не являются данными, непосредственно нужными для анализа, в связи с этим, заменим значения на следующие:\n",
    "\n",
    "`name` -> `unnamed`<br>\n",
    "`genre` -> `no_genre`"
   ]
  },
  {
   "cell_type": "code",
   "execution_count": 515,
   "metadata": {},
   "outputs": [
    {
     "data": {
      "text/html": [
       "<style  type=\"text/css\" >\n",
       "#T_50728369_37eb_11ee_b5e5_0cdd24206871row0_col0,#T_50728369_37eb_11ee_b5e5_0cdd24206871row1_col0,#T_50728369_37eb_11ee_b5e5_0cdd24206871row2_col0,#T_50728369_37eb_11ee_b5e5_0cdd24206871row3_col0,#T_50728369_37eb_11ee_b5e5_0cdd24206871row4_col0,#T_50728369_37eb_11ee_b5e5_0cdd24206871row5_col0,#T_50728369_37eb_11ee_b5e5_0cdd24206871row6_col0,#T_50728369_37eb_11ee_b5e5_0cdd24206871row7_col0,#T_50728369_37eb_11ee_b5e5_0cdd24206871row8_col0{\n",
       "            background-color:  #3b4cc0;\n",
       "            color:  #f1f1f1;\n",
       "        }#T_50728369_37eb_11ee_b5e5_0cdd24206871row9_col0{\n",
       "            background-color:  #cd423b;\n",
       "            color:  #f1f1f1;\n",
       "        }#T_50728369_37eb_11ee_b5e5_0cdd24206871row10_col0{\n",
       "            background-color:  #b40426;\n",
       "            color:  #f1f1f1;\n",
       "        }#T_50728369_37eb_11ee_b5e5_0cdd24206871row11_col0{\n",
       "            background-color:  #f59c7d;\n",
       "            color:  #000000;\n",
       "        }</style><table id=\"T_50728369_37eb_11ee_b5e5_0cdd24206871\" ><thead>    <tr>        <th class=\"blank level0\" ></th>        <th class=\"col_heading level0 col0\" >0</th>    </tr></thead><tbody>\n",
       "                <tr>\n",
       "                        <th id=\"T_50728369_37eb_11ee_b5e5_0cdd24206871level0_row0\" class=\"row_heading level0 row0\" >name</th>\n",
       "                        <td id=\"T_50728369_37eb_11ee_b5e5_0cdd24206871row0_col0\" class=\"data row0 col0\" >0.000000</td>\n",
       "            </tr>\n",
       "            <tr>\n",
       "                        <th id=\"T_50728369_37eb_11ee_b5e5_0cdd24206871level0_row1\" class=\"row_heading level0 row1\" >platform</th>\n",
       "                        <td id=\"T_50728369_37eb_11ee_b5e5_0cdd24206871row1_col0\" class=\"data row1 col0\" >0.000000</td>\n",
       "            </tr>\n",
       "            <tr>\n",
       "                        <th id=\"T_50728369_37eb_11ee_b5e5_0cdd24206871level0_row2\" class=\"row_heading level0 row2\" >year_of_release</th>\n",
       "                        <td id=\"T_50728369_37eb_11ee_b5e5_0cdd24206871row2_col0\" class=\"data row2 col0\" >0.000000</td>\n",
       "            </tr>\n",
       "            <tr>\n",
       "                        <th id=\"T_50728369_37eb_11ee_b5e5_0cdd24206871level0_row3\" class=\"row_heading level0 row3\" >genre</th>\n",
       "                        <td id=\"T_50728369_37eb_11ee_b5e5_0cdd24206871row3_col0\" class=\"data row3 col0\" >0.000000</td>\n",
       "            </tr>\n",
       "            <tr>\n",
       "                        <th id=\"T_50728369_37eb_11ee_b5e5_0cdd24206871level0_row4\" class=\"row_heading level0 row4\" >na_sales</th>\n",
       "                        <td id=\"T_50728369_37eb_11ee_b5e5_0cdd24206871row4_col0\" class=\"data row4 col0\" >0.000000</td>\n",
       "            </tr>\n",
       "            <tr>\n",
       "                        <th id=\"T_50728369_37eb_11ee_b5e5_0cdd24206871level0_row5\" class=\"row_heading level0 row5\" >eu_sales</th>\n",
       "                        <td id=\"T_50728369_37eb_11ee_b5e5_0cdd24206871row5_col0\" class=\"data row5 col0\" >0.000000</td>\n",
       "            </tr>\n",
       "            <tr>\n",
       "                        <th id=\"T_50728369_37eb_11ee_b5e5_0cdd24206871level0_row6\" class=\"row_heading level0 row6\" >jp_sales</th>\n",
       "                        <td id=\"T_50728369_37eb_11ee_b5e5_0cdd24206871row6_col0\" class=\"data row6 col0\" >0.000000</td>\n",
       "            </tr>\n",
       "            <tr>\n",
       "                        <th id=\"T_50728369_37eb_11ee_b5e5_0cdd24206871level0_row7\" class=\"row_heading level0 row7\" >other_sales</th>\n",
       "                        <td id=\"T_50728369_37eb_11ee_b5e5_0cdd24206871row7_col0\" class=\"data row7 col0\" >0.000000</td>\n",
       "            </tr>\n",
       "            <tr>\n",
       "                        <th id=\"T_50728369_37eb_11ee_b5e5_0cdd24206871level0_row8\" class=\"row_heading level0 row8\" >total_sales</th>\n",
       "                        <td id=\"T_50728369_37eb_11ee_b5e5_0cdd24206871row8_col0\" class=\"data row8 col0\" >0.000000</td>\n",
       "            </tr>\n",
       "            <tr>\n",
       "                        <th id=\"T_50728369_37eb_11ee_b5e5_0cdd24206871level0_row9\" class=\"row_heading level0 row9\" >critic_score</th>\n",
       "                        <td id=\"T_50728369_37eb_11ee_b5e5_0cdd24206871row9_col0\" class=\"data row9 col0\" >51.000000</td>\n",
       "            </tr>\n",
       "            <tr>\n",
       "                        <th id=\"T_50728369_37eb_11ee_b5e5_0cdd24206871level0_row10\" class=\"row_heading level0 row10\" >user_score</th>\n",
       "                        <td id=\"T_50728369_37eb_11ee_b5e5_0cdd24206871row10_col0\" class=\"data row10 col0\" >55.000000</td>\n",
       "            </tr>\n",
       "            <tr>\n",
       "                        <th id=\"T_50728369_37eb_11ee_b5e5_0cdd24206871level0_row11\" class=\"row_heading level0 row11\" >rating</th>\n",
       "                        <td id=\"T_50728369_37eb_11ee_b5e5_0cdd24206871row11_col0\" class=\"data row11 col0\" >41.000000</td>\n",
       "            </tr>\n",
       "    </tbody></table>"
      ],
      "text/plain": [
       "<pandas.io.formats.style.Styler at 0x215a1d7d610>"
      ]
     },
     "execution_count": 515,
     "metadata": {},
     "output_type": "execute_result"
    }
   ],
   "source": [
    "# data.dropna(subset=['name']).reset_index(drop = True)\n",
    "data.name = data.name.fillna('unnamed')\n",
    "data.genre = data.genre.fillna('no_genre')\n",
    "pd.DataFrame(round(data.isna().mean()*100,)).style.background_gradient('coolwarm')"
   ]
  },
  {
   "cell_type": "markdown",
   "metadata": {},
   "source": [
    "Прочие столбцы, в которых пропущены ячейки, представляют из себя различного рода рейтинги. Причины пустот в этих столбцах неизвестны, а количество строк с пропусками составляет большой процент от величины всего набора данных. В связи с этим, принято решение не менять ничего в указанных столбцах."
   ]
  },
  {
   "cell_type": "markdown",
   "metadata": {},
   "source": [
    "**Итоги предобработки**\n",
    "\n",
    "В ходе предобработки были:\n",
    "1. Приведены к нормальному виду названия столбцов данных\n",
    "2. Преобразованы типы данных в столбцах `user_score` и `year_of_release`\n",
    "3. Обработаны где нужно пустые значения\n",
    "4. Добавлен столбец `total_sales` содержащий информацию о продажах во всех регионах\n",
    "5. разобрано и исправлено значение `tbd` в столбце с оценкой пользователей"
   ]
  },
  {
   "cell_type": "markdown",
   "metadata": {},
   "source": [
    "## 3. Исследовательский анализ данных"
   ]
  },
  {
   "cell_type": "markdown",
   "metadata": {},
   "source": [
    "### Распределение игр по годам"
   ]
  },
  {
   "cell_type": "code",
   "execution_count": 614,
   "metadata": {},
   "outputs": [
    {
     "data": {
      "text/plain": [
       "array([2006, 1985, 2008, 2009, 1996, 1989, 1984, 2005, 1999, 2007, 2010,\n",
       "       2013, 2004, 1990, 1988, 2002, 2001, 2011, 1998, 2015, 2012, 2014,\n",
       "       1992, 1997, 1993, 1994, 1982, 2016, 2003, 1986, 2000, 1995, 1991,\n",
       "       1981, 1987, 1980, 1983])"
      ]
     },
     "execution_count": 614,
     "metadata": {},
     "output_type": "execute_result"
    }
   ],
   "source": [
    "data['year_of_release'].unique()"
   ]
  },
  {
   "cell_type": "code",
   "execution_count": 615,
   "metadata": {},
   "outputs": [
    {
     "name": "stdout",
     "output_type": "stream",
     "text": [
      "Первый год:  1980 \n",
      "Последний год: 2016\n"
     ]
    }
   ],
   "source": [
    "print('Первый год: ', data['year_of_release'].min(),\n",
    "      '\\nПоследний год:', data['year_of_release'].max())"
   ]
  },
  {
   "cell_type": "code",
   "execution_count": 517,
   "metadata": {},
   "outputs": [
    {
     "name": "stdout",
     "output_type": "stream",
     "text": [
      "count    16446.000000\n",
      "mean      2006.484616\n",
      "std          5.877050\n",
      "min       1980.000000\n",
      "25%       2003.000000\n",
      "50%       2007.000000\n",
      "75%       2010.000000\n",
      "max       2016.000000\n",
      "Name: year_of_release, dtype: float64\n"
     ]
    },
    {
     "data": {
      "image/png": "[encoded data removed]",
      "text/plain": [
       "<Figure size 720x432 with 1 Axes>"
      ]
     },
     "metadata": {
      "needs_background": "light"
     },
     "output_type": "display_data"
    },
    {
     "data": {
      "text/plain": [
       "<AxesSubplot:title={'center':'Количество данных по годам'}, ylabel='Данные'>"
      ]
     },
     "execution_count": 517,
     "metadata": {},
     "output_type": "execute_result"
    },
    {
     "data": {
      "image/png": "[encoded data removed]",
      "text/plain": [
       "<Figure size 720x432 with 1 Axes>"
      ]
     },
     "metadata": {
      "needs_background": "light"
     },
     "output_type": "display_data"
    }
   ],
   "source": [
    "print(data[data['year_of_release'] > 0]['year_of_release'].describe())\n",
    "data[data['year_of_release'] > 0]['year_of_release'].plot.hist(title = 'Количество данных по годам',\n",
    "                                  bins = 36,\n",
    "                                  xlabel = 'Год',\n",
    "                                  ylabel = 'Данные',\n",
    "                                  figsize = (10, 6),\n",
    "                                  grid = True)\n",
    "plt.show()\n",
    "data[data['year_of_release'] > 0]['year_of_release'].plot.box(title = 'Количество данных по годам',\n",
    "                                  xlabel = 'Год',\n",
    "                                  ylabel = 'Данные',\n",
    "                                  figsize = (10, 6),\n",
    "                                  grid = True)"
   ]
  },
  {
   "cell_type": "markdown",
   "metadata": {},
   "source": [
    "Можно заметить, что число данных до 1996 года сильно уступает прочему количеству.Наибольшееоже число игр приходится на период с 2003 по 2011 год. Рассмотрим данные за эти годы подробнее."
   ]
  },
  {
   "cell_type": "code",
   "execution_count": 518,
   "metadata": {},
   "outputs": [
    {
     "data": {
      "image/png": "[encoded data removed]",
      "text/plain": [
       "<Figure size 720x432 with 1 Axes>"
      ]
     },
     "metadata": {
      "needs_background": "light"
     },
     "output_type": "display_data"
    }
   ],
   "source": [
    "data.query('2003 <= year_of_release <= 2011')['year_of_release'].plot.hist(title = 'Количество данных по годам',\n",
    "                                                                           bins = 9,\n",
    "                                                                           figsize = (10, 6),\n",
    "                                                                           grid = True)\n",
    "plt.xlabel('Год')\n",
    "plt.ylabel('Данные')\n",
    "plt.show()"
   ]
  },
  {
   "cell_type": "markdown",
   "metadata": {},
   "source": [
    "Видно, что наибольшее количество данных приходится на период с 2003 по 2009 год, а количество данных до 2005 года сильно уступает числу данных за более поздний отрезок времени. Пик приходится на 2008 и 2009 годы."
   ]
  },
  {
   "cell_type": "markdown",
   "metadata": {},
   "source": [
    "### Продажи по платформам"
   ]
  },
  {
   "cell_type": "markdown",
   "metadata": {},
   "source": [
    "#### Продажи по платформам в целом"
   ]
  },
  {
   "cell_type": "code",
   "execution_count": 519,
   "metadata": {
    "scrolled": false
   },
   "outputs": [
    {
     "data": {
      "text/plain": [
       "Text(0, 0.5, 'Суммарные продажи')"
      ]
     },
     "execution_count": 519,
     "metadata": {},
     "output_type": "execute_result"
    },
    {
     "data": {
      "image/png": "[encoded data removed]",
      "text/plain": [
       "<Figure size 864x432 with 1 Axes>"
      ]
     },
     "metadata": {
      "needs_background": "light"
     },
     "output_type": "display_data"
    }
   ],
   "source": [
    "platform_sales = data.groupby('platform')['total_sales'].sum().sort_values(ascending=False)\n",
    "plt.figure(figsize=(12, 6))\n",
    "platform_sales.plot(kind='bar')\n",
    "plt.title('Продажи по платформам')\n",
    "plt.xlabel('Платформа')\n",
    "plt.ylabel('Суммарные продажи')"
   ]
  },
  {
   "cell_type": "markdown",
   "metadata": {},
   "source": [
    "Видно, что шесть платформ: PS, DS, Wii, PS3, X360 и PS2 идут с очень большим отрывом от прочих платформ. Будем относить эти платформы в отдельную категорию."
   ]
  },
  {
   "cell_type": "markdown",
   "metadata": {},
   "source": [
    "#### Продажи по платформам по годам"
   ]
  },
  {
   "cell_type": "code",
   "execution_count": 616,
   "metadata": {},
   "outputs": [
    {
     "name": "stdout",
     "output_type": "stream",
     "text": [
      "Лучшие платформы:\n",
      " ['PS2', 'X360', 'PS3', 'Wii', 'DS', 'PS']\n",
      "\n",
      "Продажи по лучшим платформам:\n",
      " platform\n",
      "PS2     1233.56\n",
      "X360     961.24\n",
      "PS3      931.34\n",
      "Wii      891.18\n",
      "DS       802.78\n",
      "PS       727.58\n",
      "Name: total_sales, dtype: float64\n"
     ]
    }
   ],
   "source": [
    "best_platforms_sales = data.groupby('platform')['total_sales'].sum().sort_values(ascending=False).head(6)\n",
    "best_platforms = best_platforms_sales.index.tolist()\n",
    "print('Лучшие платформы:\\n', best_platforms)\n",
    "print('\\nПродажи по лучшим платформам:\\n', best_platforms_sales)"
   ]
  },
  {
   "cell_type": "code",
   "execution_count": 617,
   "metadata": {},
   "outputs": [
    {
     "data": {
      "text/plain": [
       "<matplotlib.legend.Legend at 0x2159ebe9190>"
      ]
     },
     "execution_count": 617,
     "metadata": {},
     "output_type": "execute_result"
    },
    {
     "data": {
      "image/png": "[encoded data removed]",
      "text/plain": [
       "<Figure size 864x432 with 1 Axes>"
      ]
     },
     "metadata": {
      "needs_background": "light"
     },
     "output_type": "display_data"
    }
   ],
   "source": [
    "best_platforms_data = data[data['platform'].isin(best_platforms)]\n",
    "# best_platforms_data\n",
    "platform_year_sales = best_platforms_data.groupby(['platform', 'year_of_release'])['total_sales'].sum().reset_index()\n",
    "plt.figure(figsize=(12, 6))\n",
    "for platform in best_platforms:\n",
    "    platform_data = platform_year_sales[platform_year_sales['platform'] == platform]\n",
    "    plt.plot(platform_data['year_of_release'], platform_data['total_sales'], marker='o', label=platform)\n",
    "plt.xlabel('Год')\n",
    "plt.ylabel('Продажи')\n",
    "plt.legend()"
   ]
  },
  {
   "cell_type": "markdown",
   "metadata": {},
   "source": [
    "#### Цикл платформ"
   ]
  },
  {
   "cell_type": "code",
   "execution_count": 618,
   "metadata": {},
   "outputs": [
    {
     "name": "stdout",
     "output_type": "stream",
     "text": [
      "Среднее время жизни платформы: 7 лет и 7 месяцев\n"
     ]
    }
   ],
   "source": [
    "platform_time = data.pivot_table(index = 'platform', values = 'year_of_release', aggfunc = ['min', 'max'])\n",
    "platform_time['time'] = platform_time['max'] - platform_time['min']\n",
    "mean_time = platform_time['time'].mean()\n",
    "print(f'Среднее время жизни платформы: {int(mean_time)} лет и {int(mean_time%1*12)} месяцев')"
   ]
  },
  {
   "cell_type": "markdown",
   "metadata": {},
   "source": [
    "### Актуальный период"
   ]
  },
  {
   "cell_type": "markdown",
   "metadata": {},
   "source": [
    "Как мы определили в заданиях ранее, характерный срок появляются новые и исчезают старые платформы мемного меньше 8 лет. необходимо спрогнозировать данные на 2017 год. Значит, однозначно необходимо брать данные с 2009 года. Более того, ранее мы определили, что наибольшее количество данных по компаниям лежит в периоде с 2005 года, а в последние года это число идёт на спад. Таким образом, расширим выборку расматриваемых значений, пусть актуальные значения  будут взяты за последние 10 лет, то есть с 2007 года."
   ]
  },
  {
   "cell_type": "code",
   "execution_count": 619,
   "metadata": {},
   "outputs": [
    {
     "data": {
      "text/html": [
       "<div>\n",
       "<style scoped>\n",
       "    .dataframe tbody tr th:only-of-type {\n",
       "        vertical-align: middle;\n",
       "    }\n",
       "\n",
       "    .dataframe tbody tr th {\n",
       "        vertical-align: top;\n",
       "    }\n",
       "\n",
       "    .dataframe thead th {\n",
       "        text-align: right;\n",
       "    }\n",
       "</style>\n",
       "<table border=\"1\" class=\"dataframe\">\n",
       "  <thead>\n",
       "    <tr style=\"text-align: right;\">\n",
       "      <th></th>\n",
       "      <th>name</th>\n",
       "      <th>platform</th>\n",
       "      <th>year_of_release</th>\n",
       "      <th>genre</th>\n",
       "      <th>na_sales</th>\n",
       "      <th>eu_sales</th>\n",
       "      <th>jp_sales</th>\n",
       "      <th>other_sales</th>\n",
       "      <th>total_sales</th>\n",
       "      <th>critic_score</th>\n",
       "      <th>user_score</th>\n",
       "      <th>rating</th>\n",
       "    </tr>\n",
       "  </thead>\n",
       "  <tbody>\n",
       "    <tr>\n",
       "      <th>2</th>\n",
       "      <td>Mario Kart Wii</td>\n",
       "      <td>Wii</td>\n",
       "      <td>2008</td>\n",
       "      <td>Racing</td>\n",
       "      <td>15.68</td>\n",
       "      <td>12.76</td>\n",
       "      <td>3.79</td>\n",
       "      <td>3.29</td>\n",
       "      <td>35.52</td>\n",
       "      <td>82.0</td>\n",
       "      <td>8.3</td>\n",
       "      <td>E</td>\n",
       "    </tr>\n",
       "    <tr>\n",
       "      <th>3</th>\n",
       "      <td>Wii Sports Resort</td>\n",
       "      <td>Wii</td>\n",
       "      <td>2009</td>\n",
       "      <td>Sports</td>\n",
       "      <td>15.61</td>\n",
       "      <td>10.93</td>\n",
       "      <td>3.28</td>\n",
       "      <td>2.95</td>\n",
       "      <td>32.77</td>\n",
       "      <td>80.0</td>\n",
       "      <td>8.0</td>\n",
       "      <td>E</td>\n",
       "    </tr>\n",
       "    <tr>\n",
       "      <th>8</th>\n",
       "      <td>New Super Mario Bros. Wii</td>\n",
       "      <td>Wii</td>\n",
       "      <td>2009</td>\n",
       "      <td>Platform</td>\n",
       "      <td>14.44</td>\n",
       "      <td>6.94</td>\n",
       "      <td>4.70</td>\n",
       "      <td>2.24</td>\n",
       "      <td>28.32</td>\n",
       "      <td>87.0</td>\n",
       "      <td>8.4</td>\n",
       "      <td>E</td>\n",
       "    </tr>\n",
       "    <tr>\n",
       "      <th>13</th>\n",
       "      <td>Wii Fit</td>\n",
       "      <td>Wii</td>\n",
       "      <td>2007</td>\n",
       "      <td>Sports</td>\n",
       "      <td>8.92</td>\n",
       "      <td>8.03</td>\n",
       "      <td>3.60</td>\n",
       "      <td>2.15</td>\n",
       "      <td>22.70</td>\n",
       "      <td>80.0</td>\n",
       "      <td>7.7</td>\n",
       "      <td>E</td>\n",
       "    </tr>\n",
       "    <tr>\n",
       "      <th>14</th>\n",
       "      <td>Kinect Adventures!</td>\n",
       "      <td>X360</td>\n",
       "      <td>2010</td>\n",
       "      <td>Misc</td>\n",
       "      <td>15.00</td>\n",
       "      <td>4.89</td>\n",
       "      <td>0.24</td>\n",
       "      <td>1.69</td>\n",
       "      <td>21.82</td>\n",
       "      <td>61.0</td>\n",
       "      <td>6.3</td>\n",
       "      <td>E</td>\n",
       "    </tr>\n",
       "  </tbody>\n",
       "</table>\n",
       "</div>"
      ],
      "text/plain": [
       "                         name platform  year_of_release     genre  na_sales  \\\n",
       "2              Mario Kart Wii      Wii             2008    Racing     15.68   \n",
       "3           Wii Sports Resort      Wii             2009    Sports     15.61   \n",
       "8   New Super Mario Bros. Wii      Wii             2009  Platform     14.44   \n",
       "13                    Wii Fit      Wii             2007    Sports      8.92   \n",
       "14         Kinect Adventures!     X360             2010      Misc     15.00   \n",
       "\n",
       "    eu_sales  jp_sales  other_sales  total_sales  critic_score  user_score  \\\n",
       "2      12.76      3.79         3.29        35.52          82.0         8.3   \n",
       "3      10.93      3.28         2.95        32.77          80.0         8.0   \n",
       "8       6.94      4.70         2.24        28.32          87.0         8.4   \n",
       "13      8.03      3.60         2.15        22.70          80.0         7.7   \n",
       "14      4.89      0.24         1.69        21.82          61.0         6.3   \n",
       "\n",
       "   rating  \n",
       "2       E  \n",
       "3       E  \n",
       "8       E  \n",
       "13      E  \n",
       "14      E  "
      ]
     },
     "execution_count": 619,
     "metadata": {},
     "output_type": "execute_result"
    }
   ],
   "source": [
    "actual_data = data[(data['year_of_release'] >= 2007)]\n",
    "actual_data.head()"
   ]
  },
  {
   "cell_type": "markdown",
   "metadata": {},
   "source": [
    "Как видно на предыдущем графике, продажи по рассматриваемым платформам успели упасть, и крайне маловероятно, что эти платформы смогут снова выстрелить. Скорее всего следует рассмотреть платформы более современные, которые не вошли в топ 10 из-за того, что не успели развиться."
   ]
  },
  {
   "cell_type": "code",
   "execution_count": 565,
   "metadata": {
    "scrolled": true
   },
   "outputs": [
    {
     "data": {
      "text/plain": [
       "['3DS', 'PC', 'PS3', 'PS4', 'PSV', 'Wii', 'WiiU', 'X360', 'XOne']"
      ]
     },
     "execution_count": 565,
     "metadata": {},
     "output_type": "execute_result"
    }
   ],
   "source": [
    "modern_platforms = platform_time[platform_time[('max','year_of_release')] == 2016]\n",
    "modern_platforms_list = modern_platforms.index.tolist()\n",
    "modern_platforms_list"
   ]
  },
  {
   "cell_type": "code",
   "execution_count": 620,
   "metadata": {},
   "outputs": [
    {
     "data": {
      "text/plain": [
       "<matplotlib.legend.Legend at 0x2159eaa0b20>"
      ]
     },
     "execution_count": 620,
     "metadata": {},
     "output_type": "execute_result"
    },
    {
     "data": {
      "image/png": "[encoded data removed]",
      "text/plain": [
       "<Figure size 864x432 with 1 Axes>"
      ]
     },
     "metadata": {
      "needs_background": "light"
     },
     "output_type": "display_data"
    }
   ],
   "source": [
    "modern_platforms_data = data[data['platform'].isin(modern_platforms_list)]\n",
    "# modern_platforms_data\n",
    "platform_year_sales = modern_platforms_data.groupby(['platform', 'year_of_release'])['total_sales'].sum().reset_index()\n",
    "plt.figure(figsize=(12, 6))\n",
    "for platform in modern_platforms_list:\n",
    "    platform_data = platform_year_sales[platform_year_sales['platform'] == platform]\n",
    "    plt.plot(platform_data['year_of_release'], platform_data['total_sales'], marker='o', label=platform)\n",
    "plt.xlabel('Год')\n",
    "plt.ylabel('Продажи')\n",
    "plt.legend()"
   ]
  },
  {
   "cell_type": "markdown",
   "metadata": {},
   "source": [
    "По графику видно, что продажи по всем платформам упали в 2016 году, однако это означает лишь то, что за 2016 год не успели ещё сформироваться данные. <br>\n",
    "И тем не менее, по имеющимся данным можно вывделить платформы, продажи по которым с наибольшей вероятностью \"взлетят\" в ближайшее время, а по каким маловероятно.<br>\n",
    "**Время платформ _Wii_, _X360_, _PS3_ с наибольшей вероятностью уже подходит к концу**, так показывает их время цикла.\n",
    "**То же самое можно сказать про _3DS_, _PSV_ и _WIIU_.** Последние две из них просуществовали бОльшую часть среднего цикла не показав выдающихся результатов, а 3DS показывала отрицательный рост с самого начала своего существования.\n",
    "\n",
    "**Интересны же нам следующие платформы: _PS4_ и _XOne_.** Эти платформы имеют своё начало в 2013 году (то есть совсем недавно), а это значит, что их цикл находится сейчас в самом разгаре, более того, данные за прошедшие годы их существования говорят не просто о положительном росте этих платформ, но и о том, что этот рост достаточно стремительный.\n",
    "\n",
    "**Отдельное внимание стоит уделить платформе _PC_.** Не смотря на то, что в настоящее время продажи не могут показать выдающихся результатов, эта платформа является крайне стабильной: она существует с 1985 года и её цикл, судя по всему, совершенно не намерен прекращаться, более того, периодические подъемы платформы свидетельствуют о том, что платформа активно поддерживается.\n",
    "\n",
    "Итак, особое внимание уделить платформам **_PS4_**, **_XOne_** и **_PC_**"
   ]
  },
  {
   "cell_type": "markdown",
   "metadata": {},
   "source": [
    "### Диаграмма размаха\n",
    "\n",
    "Рассмотрим более подробно и сравним продажи по играм за актуальныйй промежуток времени:"
   ]
  },
  {
   "cell_type": "code",
   "execution_count": 621,
   "metadata": {},
   "outputs": [
    {
     "data": {
      "image/png": "[encoded data removed]",
      "text/plain": [
       "<Figure size 720x576 with 1 Axes>"
      ]
     },
     "metadata": {
      "needs_background": "light"
     },
     "output_type": "display_data"
    }
   ],
   "source": [
    "actual_data.groupby(['name', 'platform'])['total_sales'].sum().unstack().plot(kind='box', figsize = (10, 8))\n",
    "plt.ylim(0, 2)\n",
    "plt.title('Продажи игр по разбивке по платформам')\n",
    "plt.xlabel('Платформы')\n",
    "plt.ylabel('Продажи')\n",
    "plt.show()"
   ]
  },
  {
   "cell_type": "markdown",
   "metadata": {},
   "source": [
    "Судя по диаграмме, предположение на счёт платформ **_XOne_** и **_PS4_** оказалось верным, платформы действительно показывают очень высокие результаты"
   ]
  },
  {
   "cell_type": "markdown",
   "metadata": {},
   "source": [
    "### Влияние отзывов критиков и пользователей на продажи"
   ]
  },
  {
   "cell_type": "markdown",
   "metadata": {},
   "source": [
    "В наших рейтингах наблюдалась платформа **_PS3_**, продажи по этой платформе показали хороший результат, на её примере проведём анализ влияния."
   ]
  },
  {
   "cell_type": "code",
   "execution_count": 568,
   "metadata": {},
   "outputs": [],
   "source": [
    "def sales_eval(platform):\n",
    "    \"\"\"\n",
    "    Строит корреляционную матрицу по платформе, которую указывает пользователь.\n",
    "    Матрица строится по трем параметрам: оценка пользователей, оценка критиков и продажи.\n",
    "    \"\"\"\n",
    "    corr_matrix = actual_data[actual_data['platform'] == platform][['critic_score','user_score', 'total_sales']].corr()\n",
    "    return corr_matrix"
   ]
  },
  {
   "cell_type": "code",
   "execution_count": 569,
   "metadata": {},
   "outputs": [
    {
     "data": {
      "image/png": "[encoded data removed]",
      "text/plain": [
       "<Figure size 432x288 with 1 Axes>"
      ]
     },
     "metadata": {
      "needs_background": "light"
     },
     "output_type": "display_data"
    },
    {
     "name": "stdout",
     "output_type": "stream",
     "text": [
      "Матрица корреляций\n"
     ]
    },
    {
     "data": {
      "text/html": [
       "<div>\n",
       "<style scoped>\n",
       "    .dataframe tbody tr th:only-of-type {\n",
       "        vertical-align: middle;\n",
       "    }\n",
       "\n",
       "    .dataframe tbody tr th {\n",
       "        vertical-align: top;\n",
       "    }\n",
       "\n",
       "    .dataframe thead th {\n",
       "        text-align: right;\n",
       "    }\n",
       "</style>\n",
       "<table border=\"1\" class=\"dataframe\">\n",
       "  <thead>\n",
       "    <tr style=\"text-align: right;\">\n",
       "      <th></th>\n",
       "      <th>critic_score</th>\n",
       "      <th>user_score</th>\n",
       "      <th>total_sales</th>\n",
       "    </tr>\n",
       "  </thead>\n",
       "  <tbody>\n",
       "    <tr>\n",
       "      <th>critic_score</th>\n",
       "      <td>1.00000</td>\n",
       "      <td>0.630960</td>\n",
       "      <td>0.433460</td>\n",
       "    </tr>\n",
       "    <tr>\n",
       "      <th>user_score</th>\n",
       "      <td>0.63096</td>\n",
       "      <td>1.000000</td>\n",
       "      <td>0.126033</td>\n",
       "    </tr>\n",
       "    <tr>\n",
       "      <th>total_sales</th>\n",
       "      <td>0.43346</td>\n",
       "      <td>0.126033</td>\n",
       "      <td>1.000000</td>\n",
       "    </tr>\n",
       "  </tbody>\n",
       "</table>\n",
       "</div>"
      ],
      "text/plain": [
       "              critic_score  user_score  total_sales\n",
       "critic_score       1.00000    0.630960     0.433460\n",
       "user_score         0.63096    1.000000     0.126033\n",
       "total_sales        0.43346    0.126033     1.000000"
      ]
     },
     "execution_count": 569,
     "metadata": {},
     "output_type": "execute_result"
    }
   ],
   "source": [
    "actual_data[actual_data['platform'] == 'PS3'].plot(x='user_score', y='critic_score', kind='scatter')\n",
    "plt.title('Влияние оценок критиков и пользователей на число продаж')\n",
    "plt.show()\n",
    "print('Матрица корреляций')\n",
    "sales_eval('PS3')"
   ]
  },
  {
   "cell_type": "markdown",
   "metadata": {},
   "source": [
    "По диаграмме видно, что критики и пользователи оценивают платформу приблизительно на одном уровне.<br>\n",
    "Количество продаж обладает малой корреляцией с оценками критиков и практически нет связи с оценками пользователей."
   ]
  },
  {
   "cell_type": "markdown",
   "metadata": {},
   "source": [
    "### Продажи игр на других платформах"
   ]
  },
  {
   "cell_type": "markdown",
   "metadata": {},
   "source": [
    "Как уже говорилось ранее, нам интересны платформы **_PS4_**, **_XOne_** и **_PC_**, оценим параметры продаж игр на них."
   ]
  },
  {
   "cell_type": "code",
   "execution_count": 570,
   "metadata": {},
   "outputs": [
    {
     "name": "stdout",
     "output_type": "stream",
     "text": [
      "Оценка продаж PS4\n"
     ]
    },
    {
     "data": {
      "text/html": [
       "<div>\n",
       "<style scoped>\n",
       "    .dataframe tbody tr th:only-of-type {\n",
       "        vertical-align: middle;\n",
       "    }\n",
       "\n",
       "    .dataframe tbody tr th {\n",
       "        vertical-align: top;\n",
       "    }\n",
       "\n",
       "    .dataframe thead th {\n",
       "        text-align: right;\n",
       "    }\n",
       "</style>\n",
       "<table border=\"1\" class=\"dataframe\">\n",
       "  <thead>\n",
       "    <tr style=\"text-align: right;\">\n",
       "      <th></th>\n",
       "      <th>critic_score</th>\n",
       "      <th>user_score</th>\n",
       "      <th>total_sales</th>\n",
       "    </tr>\n",
       "  </thead>\n",
       "  <tbody>\n",
       "    <tr>\n",
       "      <th>critic_score</th>\n",
       "      <td>1.000000</td>\n",
       "      <td>0.557654</td>\n",
       "      <td>0.406568</td>\n",
       "    </tr>\n",
       "    <tr>\n",
       "      <th>user_score</th>\n",
       "      <td>0.557654</td>\n",
       "      <td>1.000000</td>\n",
       "      <td>-0.031957</td>\n",
       "    </tr>\n",
       "    <tr>\n",
       "      <th>total_sales</th>\n",
       "      <td>0.406568</td>\n",
       "      <td>-0.031957</td>\n",
       "      <td>1.000000</td>\n",
       "    </tr>\n",
       "  </tbody>\n",
       "</table>\n",
       "</div>"
      ],
      "text/plain": [
       "              critic_score  user_score  total_sales\n",
       "critic_score      1.000000    0.557654     0.406568\n",
       "user_score        0.557654    1.000000    -0.031957\n",
       "total_sales       0.406568   -0.031957     1.000000"
      ]
     },
     "metadata": {},
     "output_type": "display_data"
    },
    {
     "name": "stdout",
     "output_type": "stream",
     "text": [
      "\n",
      "Оценка продаж XOne\n"
     ]
    },
    {
     "data": {
      "text/html": [
       "<div>\n",
       "<style scoped>\n",
       "    .dataframe tbody tr th:only-of-type {\n",
       "        vertical-align: middle;\n",
       "    }\n",
       "\n",
       "    .dataframe tbody tr th {\n",
       "        vertical-align: top;\n",
       "    }\n",
       "\n",
       "    .dataframe thead th {\n",
       "        text-align: right;\n",
       "    }\n",
       "</style>\n",
       "<table border=\"1\" class=\"dataframe\">\n",
       "  <thead>\n",
       "    <tr style=\"text-align: right;\">\n",
       "      <th></th>\n",
       "      <th>critic_score</th>\n",
       "      <th>user_score</th>\n",
       "      <th>total_sales</th>\n",
       "    </tr>\n",
       "  </thead>\n",
       "  <tbody>\n",
       "    <tr>\n",
       "      <th>critic_score</th>\n",
       "      <td>1.000000</td>\n",
       "      <td>0.472462</td>\n",
       "      <td>0.416998</td>\n",
       "    </tr>\n",
       "    <tr>\n",
       "      <th>user_score</th>\n",
       "      <td>0.472462</td>\n",
       "      <td>1.000000</td>\n",
       "      <td>-0.068925</td>\n",
       "    </tr>\n",
       "    <tr>\n",
       "      <th>total_sales</th>\n",
       "      <td>0.416998</td>\n",
       "      <td>-0.068925</td>\n",
       "      <td>1.000000</td>\n",
       "    </tr>\n",
       "  </tbody>\n",
       "</table>\n",
       "</div>"
      ],
      "text/plain": [
       "              critic_score  user_score  total_sales\n",
       "critic_score      1.000000    0.472462     0.416998\n",
       "user_score        0.472462    1.000000    -0.068925\n",
       "total_sales       0.416998   -0.068925     1.000000"
      ]
     },
     "metadata": {},
     "output_type": "display_data"
    },
    {
     "name": "stdout",
     "output_type": "stream",
     "text": [
      "\n",
      "Оценка продаж PC\n"
     ]
    },
    {
     "data": {
      "text/html": [
       "<div>\n",
       "<style scoped>\n",
       "    .dataframe tbody tr th:only-of-type {\n",
       "        vertical-align: middle;\n",
       "    }\n",
       "\n",
       "    .dataframe tbody tr th {\n",
       "        vertical-align: top;\n",
       "    }\n",
       "\n",
       "    .dataframe thead th {\n",
       "        text-align: right;\n",
       "    }\n",
       "</style>\n",
       "<table border=\"1\" class=\"dataframe\">\n",
       "  <thead>\n",
       "    <tr style=\"text-align: right;\">\n",
       "      <th></th>\n",
       "      <th>critic_score</th>\n",
       "      <th>user_score</th>\n",
       "      <th>total_sales</th>\n",
       "    </tr>\n",
       "  </thead>\n",
       "  <tbody>\n",
       "    <tr>\n",
       "      <th>critic_score</th>\n",
       "      <td>1.000000</td>\n",
       "      <td>0.518416</td>\n",
       "      <td>0.299516</td>\n",
       "    </tr>\n",
       "    <tr>\n",
       "      <th>user_score</th>\n",
       "      <td>0.518416</td>\n",
       "      <td>1.000000</td>\n",
       "      <td>-0.009642</td>\n",
       "    </tr>\n",
       "    <tr>\n",
       "      <th>total_sales</th>\n",
       "      <td>0.299516</td>\n",
       "      <td>-0.009642</td>\n",
       "      <td>1.000000</td>\n",
       "    </tr>\n",
       "  </tbody>\n",
       "</table>\n",
       "</div>"
      ],
      "text/plain": [
       "              critic_score  user_score  total_sales\n",
       "critic_score      1.000000    0.518416     0.299516\n",
       "user_score        0.518416    1.000000    -0.009642\n",
       "total_sales       0.299516   -0.009642     1.000000"
      ]
     },
     "execution_count": 570,
     "metadata": {},
     "output_type": "execute_result"
    }
   ],
   "source": [
    "print('Оценка продаж PS4')\n",
    "display(sales_eval('PS4'))\n",
    "print('\\nОценка продаж XOne')\n",
    "display(sales_eval('XOne'))\n",
    "print('\\nОценка продаж PC')\n",
    "sales_eval('PC')"
   ]
  },
  {
   "cell_type": "markdown",
   "metadata": {},
   "source": [
    "По всем платформам можно сделать один вывод:\n",
    "\n",
    "Oценки пользователей совершенно не влияют на продажи платформ. <br>\n",
    "Оценки критиков на продажи влияют, но не сильно. При чём оценки критиков влияют на продажи **_PS4_** и **_XOne_** практически на одном уровне, а на продажи **_PC_** они оказывают меньшее влияние."
   ]
  },
  {
   "cell_type": "markdown",
   "metadata": {},
   "source": [
    "### Общее распределение игр по жанрам"
   ]
  },
  {
   "cell_type": "code",
   "execution_count": 571,
   "metadata": {},
   "outputs": [
    {
     "data": {
      "image/png": "[encoded data removed]",
      "text/plain": [
       "<Figure size 720x576 with 1 Axes>"
      ]
     },
     "metadata": {
      "needs_background": "light"
     },
     "output_type": "display_data"
    }
   ],
   "source": [
    "actual_data.groupby('genre')['total_sales'].sum().sort_values(ascending = False).plot(kind='bar', figsize = (10, 8))\n",
    "plt.title('Прибыль по жанрам')\n",
    "plt.xlabel('Жанры')\n",
    "plt.ylabel('Прибыль')\n",
    "plt.show()"
   ]
  },
  {
   "cell_type": "markdown",
   "metadata": {},
   "source": [
    "Судя по данным, самые прибыльными жанрами являются `action`, `shooter` и `sport`, при чем первый из них имеет приличный отрыв от прочих. Наименьшую прибыль предоставляют жанры `puzzle` и `strategy`."
   ]
  },
  {
   "cell_type": "markdown",
   "metadata": {},
   "source": [
    "**Вывод по исследовательскому анализу**\n",
    "\n",
    "1. Больше всего игр вышло с 2003 по 2009 годы. Пик приходится на 2008 и 2009 годы. \n",
    "2. Самые большие продажи за всё время наблюдались у платформ PS, DS, Wii, PS3, X360 и PS2.\n",
    "3. Характерный срок за который появляются новые и исчезают старые платформы составляет 7 лет и 7 месяцев.\n",
    "4. Перспективные и неперспективные платформы:\n",
    "    - Неперспективные:\n",
    "        - Wii, X360, PS3, 3DS, PSV, WIIU\n",
    "    - Перспективные\n",
    "        - PS4, XOne, PC\n",
    "5. Оценки пользователей и критиков:\n",
    "    - Оценки пользователей не влияют на продажи платформ PS4, XOne, PC.\n",
    "    - Оценки критиков не сильно влияют на продажи платформ PS4, XOne, PC. Их влияние на PC меньше, чем на PS4, XOne.\n",
    "6. Прибыльность жанров:\n",
    "    - Самые прибыльные жанры: action, shooter, sport.\n",
    "    - Наименее прибыльные жанры: puzzle, strategy."
   ]
  },
  {
   "cell_type": "markdown",
   "metadata": {},
   "source": [
    "## 4. Составление портрета пользователя каждого региона"
   ]
  },
  {
   "cell_type": "markdown",
   "metadata": {},
   "source": [
    "### Топ-5 самых популярных платформ для пользователя  каждого региона."
   ]
  },
  {
   "cell_type": "code",
   "execution_count": 572,
   "metadata": {},
   "outputs": [
    {
     "data": {
      "text/html": [
       "<div>\n",
       "<style scoped>\n",
       "    .dataframe tbody tr th:only-of-type {\n",
       "        vertical-align: middle;\n",
       "    }\n",
       "\n",
       "    .dataframe tbody tr th {\n",
       "        vertical-align: top;\n",
       "    }\n",
       "\n",
       "    .dataframe thead th {\n",
       "        text-align: right;\n",
       "    }\n",
       "</style>\n",
       "<table border=\"1\" class=\"dataframe\">\n",
       "  <thead>\n",
       "    <tr style=\"text-align: right;\">\n",
       "      <th></th>\n",
       "      <th>eu_sales</th>\n",
       "      <th>jp_sales</th>\n",
       "      <th>na_sales</th>\n",
       "      <th>other_sales</th>\n",
       "    </tr>\n",
       "    <tr>\n",
       "      <th>platform</th>\n",
       "      <th></th>\n",
       "      <th></th>\n",
       "      <th></th>\n",
       "      <th></th>\n",
       "    </tr>\n",
       "  </thead>\n",
       "  <tbody>\n",
       "    <tr>\n",
       "      <th>3DS</th>\n",
       "      <td>61.27</td>\n",
       "      <td>100.62</td>\n",
       "      <td>82.65</td>\n",
       "      <td>13.27</td>\n",
       "    </tr>\n",
       "    <tr>\n",
       "      <th>DC</th>\n",
       "      <td>0.00</td>\n",
       "      <td>0.06</td>\n",
       "      <td>0.00</td>\n",
       "      <td>0.00</td>\n",
       "    </tr>\n",
       "    <tr>\n",
       "      <th>DS</th>\n",
       "      <td>119.92</td>\n",
       "      <td>102.93</td>\n",
       "      <td>273.98</td>\n",
       "      <td>38.71</td>\n",
       "    </tr>\n",
       "  </tbody>\n",
       "</table>\n",
       "</div>"
      ],
      "text/plain": [
       "          eu_sales  jp_sales  na_sales  other_sales\n",
       "platform                                           \n",
       "3DS          61.27    100.62     82.65        13.27\n",
       "DC            0.00      0.06      0.00         0.00\n",
       "DS          119.92    102.93    273.98        38.71"
      ]
     },
     "execution_count": 572,
     "metadata": {},
     "output_type": "execute_result"
    }
   ],
   "source": [
    "top_region_platforms = actual_data.pivot_table(index = 'platform',\n",
    "                                        values = ['na_sales', 'eu_sales', 'jp_sales', 'other_sales'],\n",
    "                                        aggfunc = 'sum')\n",
    "top_region_platforms.head(3)"
   ]
  },
  {
   "cell_type": "code",
   "execution_count": 573,
   "metadata": {},
   "outputs": [],
   "source": [
    "def top_five_plarforms(region_sales):\n",
    "    \"\"\"\n",
    "    Показывает топ-5 платформ для выбранного региона.\n",
    "    \"\"\"\n",
    "    top_five_region_platforms = top_region_platforms[region_sales].sort_values(ascending = False).head(5)\n",
    "    return pd.DataFrame(top_five_region_platforms)"
   ]
  },
  {
   "cell_type": "code",
   "execution_count": 574,
   "metadata": {},
   "outputs": [
    {
     "data": {
      "image/png": "[encoded data removed]",
      "text/plain": [
       "<Figure size 864x432 with 1 Axes>"
      ]
     },
     "metadata": {
      "needs_background": "light"
     },
     "output_type": "display_data"
    },
    {
     "data": {
      "text/html": [
       "<div>\n",
       "<style scoped>\n",
       "    .dataframe tbody tr th:only-of-type {\n",
       "        vertical-align: middle;\n",
       "    }\n",
       "\n",
       "    .dataframe tbody tr th {\n",
       "        vertical-align: top;\n",
       "    }\n",
       "\n",
       "    .dataframe thead th {\n",
       "        text-align: right;\n",
       "    }\n",
       "</style>\n",
       "<table border=\"1\" class=\"dataframe\">\n",
       "  <thead>\n",
       "    <tr style=\"text-align: right;\">\n",
       "      <th></th>\n",
       "      <th>eu_sales</th>\n",
       "    </tr>\n",
       "    <tr>\n",
       "      <th>platform</th>\n",
       "      <th></th>\n",
       "    </tr>\n",
       "  </thead>\n",
       "  <tbody>\n",
       "    <tr>\n",
       "      <th>PS3</th>\n",
       "      <td>319.83</td>\n",
       "    </tr>\n",
       "    <tr>\n",
       "      <th>X360</th>\n",
       "      <td>257.05</td>\n",
       "    </tr>\n",
       "    <tr>\n",
       "      <th>Wii</th>\n",
       "      <td>214.70</td>\n",
       "    </tr>\n",
       "    <tr>\n",
       "      <th>PS4</th>\n",
       "      <td>141.09</td>\n",
       "    </tr>\n",
       "    <tr>\n",
       "      <th>DS</th>\n",
       "      <td>119.92</td>\n",
       "    </tr>\n",
       "  </tbody>\n",
       "</table>\n",
       "</div>"
      ],
      "text/plain": [
       "          eu_sales\n",
       "platform          \n",
       "PS3         319.83\n",
       "X360        257.05\n",
       "Wii         214.70\n",
       "PS4         141.09\n",
       "DS          119.92"
      ]
     },
     "execution_count": 574,
     "metadata": {},
     "output_type": "execute_result"
    }
   ],
   "source": [
    "top_region_platforms['eu_sales'].sort_values(ascending = False).plot.bar(figsize = (12, 6))\n",
    "plt.title('Платформы пользователей региона Европа')\n",
    "plt.xlabel('Платформы')\n",
    "plt.ylabel('Продажи')\n",
    "plt.show()\n",
    "top_five_plarforms('eu_sales')"
   ]
  },
  {
   "cell_type": "code",
   "execution_count": 575,
   "metadata": {},
   "outputs": [
    {
     "data": {
      "image/png": "[encoded data removed]",
      "text/plain": [
       "<Figure size 864x432 with 1 Axes>"
      ]
     },
     "metadata": {
      "needs_background": "light"
     },
     "output_type": "display_data"
    },
    {
     "data": {
      "text/html": [
       "<div>\n",
       "<style scoped>\n",
       "    .dataframe tbody tr th:only-of-type {\n",
       "        vertical-align: middle;\n",
       "    }\n",
       "\n",
       "    .dataframe tbody tr th {\n",
       "        vertical-align: top;\n",
       "    }\n",
       "\n",
       "    .dataframe thead th {\n",
       "        text-align: right;\n",
       "    }\n",
       "</style>\n",
       "<table border=\"1\" class=\"dataframe\">\n",
       "  <thead>\n",
       "    <tr style=\"text-align: right;\">\n",
       "      <th></th>\n",
       "      <th>jp_sales</th>\n",
       "    </tr>\n",
       "    <tr>\n",
       "      <th>platform</th>\n",
       "      <th></th>\n",
       "    </tr>\n",
       "  </thead>\n",
       "  <tbody>\n",
       "    <tr>\n",
       "      <th>DS</th>\n",
       "      <td>102.93</td>\n",
       "    </tr>\n",
       "    <tr>\n",
       "      <th>3DS</th>\n",
       "      <td>100.62</td>\n",
       "    </tr>\n",
       "    <tr>\n",
       "      <th>PS3</th>\n",
       "      <td>78.33</td>\n",
       "    </tr>\n",
       "    <tr>\n",
       "      <th>PSP</th>\n",
       "      <td>66.24</td>\n",
       "    </tr>\n",
       "    <tr>\n",
       "      <th>Wii</th>\n",
       "      <td>59.13</td>\n",
       "    </tr>\n",
       "  </tbody>\n",
       "</table>\n",
       "</div>"
      ],
      "text/plain": [
       "          jp_sales\n",
       "platform          \n",
       "DS          102.93\n",
       "3DS         100.62\n",
       "PS3          78.33\n",
       "PSP          66.24\n",
       "Wii          59.13"
      ]
     },
     "execution_count": 575,
     "metadata": {},
     "output_type": "execute_result"
    }
   ],
   "source": [
    "top_region_platforms['jp_sales'].sort_values(ascending = False).plot.bar(figsize = (12, 6))\n",
    "plt.title('Платформы пользователей региона Япония')\n",
    "plt.xlabel('Платформы')\n",
    "plt.ylabel('Продажи')\n",
    "plt.show()\n",
    "top_five_plarforms('jp_sales')"
   ]
  },
  {
   "cell_type": "code",
   "execution_count": 576,
   "metadata": {},
   "outputs": [
    {
     "data": {
      "image/png": "[encoded data removed]",
      "text/plain": [
       "<Figure size 864x432 with 1 Axes>"
      ]
     },
     "metadata": {
      "needs_background": "light"
     },
     "output_type": "display_data"
    },
    {
     "data": {
      "text/html": [
       "<div>\n",
       "<style scoped>\n",
       "    .dataframe tbody tr th:only-of-type {\n",
       "        vertical-align: middle;\n",
       "    }\n",
       "\n",
       "    .dataframe tbody tr th {\n",
       "        vertical-align: top;\n",
       "    }\n",
       "\n",
       "    .dataframe thead th {\n",
       "        text-align: right;\n",
       "    }\n",
       "</style>\n",
       "<table border=\"1\" class=\"dataframe\">\n",
       "  <thead>\n",
       "    <tr style=\"text-align: right;\">\n",
       "      <th></th>\n",
       "      <th>na_sales</th>\n",
       "    </tr>\n",
       "    <tr>\n",
       "      <th>platform</th>\n",
       "      <th></th>\n",
       "    </tr>\n",
       "  </thead>\n",
       "  <tbody>\n",
       "    <tr>\n",
       "      <th>X360</th>\n",
       "      <td>553.68</td>\n",
       "    </tr>\n",
       "    <tr>\n",
       "      <th>Wii</th>\n",
       "      <td>416.01</td>\n",
       "    </tr>\n",
       "    <tr>\n",
       "      <th>PS3</th>\n",
       "      <td>381.29</td>\n",
       "    </tr>\n",
       "    <tr>\n",
       "      <th>DS</th>\n",
       "      <td>273.98</td>\n",
       "    </tr>\n",
       "    <tr>\n",
       "      <th>PS4</th>\n",
       "      <td>108.74</td>\n",
       "    </tr>\n",
       "  </tbody>\n",
       "</table>\n",
       "</div>"
      ],
      "text/plain": [
       "          na_sales\n",
       "platform          \n",
       "X360        553.68\n",
       "Wii         416.01\n",
       "PS3         381.29\n",
       "DS          273.98\n",
       "PS4         108.74"
      ]
     },
     "execution_count": 576,
     "metadata": {},
     "output_type": "execute_result"
    }
   ],
   "source": [
    "top_region_platforms['na_sales'].sort_values(ascending = False).plot.bar(figsize = (12, 6))\n",
    "plt.title('Платформы пользователей региона Северная Америка')\n",
    "plt.xlabel('Платформы')\n",
    "plt.ylabel('Продажи')\n",
    "plt.show()\n",
    "top_five_plarforms('na_sales')"
   ]
  },
  {
   "cell_type": "code",
   "execution_count": 577,
   "metadata": {},
   "outputs": [
    {
     "data": {
      "image/png": "[encoded data removed]",
      "text/plain": [
       "<Figure size 864x432 with 1 Axes>"
      ]
     },
     "metadata": {
      "needs_background": "light"
     },
     "output_type": "display_data"
    },
    {
     "data": {
      "text/html": [
       "<div>\n",
       "<style scoped>\n",
       "    .dataframe tbody tr th:only-of-type {\n",
       "        vertical-align: middle;\n",
       "    }\n",
       "\n",
       "    .dataframe tbody tr th {\n",
       "        vertical-align: top;\n",
       "    }\n",
       "\n",
       "    .dataframe thead th {\n",
       "        text-align: right;\n",
       "    }\n",
       "</style>\n",
       "<table border=\"1\" class=\"dataframe\">\n",
       "  <thead>\n",
       "    <tr style=\"text-align: right;\">\n",
       "      <th></th>\n",
       "      <th>other_sales</th>\n",
       "    </tr>\n",
       "    <tr>\n",
       "      <th>platform</th>\n",
       "      <th></th>\n",
       "    </tr>\n",
       "  </thead>\n",
       "  <tbody>\n",
       "    <tr>\n",
       "      <th>PS3</th>\n",
       "      <td>130.93</td>\n",
       "    </tr>\n",
       "    <tr>\n",
       "      <th>X360</th>\n",
       "      <td>79.82</td>\n",
       "    </tr>\n",
       "    <tr>\n",
       "      <th>Wii</th>\n",
       "      <td>64.19</td>\n",
       "    </tr>\n",
       "    <tr>\n",
       "      <th>PS2</th>\n",
       "      <td>54.46</td>\n",
       "    </tr>\n",
       "    <tr>\n",
       "      <th>PS4</th>\n",
       "      <td>48.35</td>\n",
       "    </tr>\n",
       "  </tbody>\n",
       "</table>\n",
       "</div>"
      ],
      "text/plain": [
       "          other_sales\n",
       "platform             \n",
       "PS3            130.93\n",
       "X360            79.82\n",
       "Wii             64.19\n",
       "PS2             54.46\n",
       "PS4             48.35"
      ]
     },
     "execution_count": 577,
     "metadata": {},
     "output_type": "execute_result"
    }
   ],
   "source": [
    "top_region_platforms['other_sales'].sort_values(ascending = False).plot.bar(figsize = (12, 6))\n",
    "plt.title('Платформы пользователей регионов, не относящихся к Европе, Японии и Северной Америке')\n",
    "plt.xlabel('Платформы')\n",
    "plt.ylabel('Продажи')\n",
    "plt.show()\n",
    "top_five_plarforms('other_sales')"
   ]
  },
  {
   "cell_type": "code",
   "execution_count": 578,
   "metadata": {},
   "outputs": [
    {
     "name": "stdout",
     "output_type": "stream",
     "text": [
      "Сумма продаж по топ-5 платформам в регионах не относящихся к Европе, Японии и Северной Америке 377\n",
      "Сумма продаж по топ-5 платформам в регионе Япония: 407\n",
      "Сумма продаж по топ-5 платформам в регионе Европа: 1052\n",
      "Сумма продаж по топ-5 платформам в регионе Северная Америка: 1733\n"
     ]
    }
   ],
   "source": [
    "sales_per_region_dict = {'Сумма продаж по топ-5 платформам в регионе Европа:':\n",
    "                         int(top_five_plarforms('eu_sales')['eu_sales'].sum()),\n",
    "                         'Сумма продаж по топ-5 платформам в регионе Япония:':\n",
    "                         int(top_five_plarforms('jp_sales')['jp_sales'].sum()),\n",
    "                         'Сумма продаж по топ-5 платформам в регионе Северная Америка:':\n",
    "                         int(top_five_plarforms('na_sales')['na_sales'].sum()),\n",
    "                         'Сумма продаж по топ-5 платформам в регионах не относящихся к Европе, Японии и Северной Америке':\n",
    "                         int(top_five_plarforms('other_sales')['other_sales'].sum())}\n",
    "for s in sorted(sales_per_region_dict, key = sales_per_region_dict.get):\n",
    "    print(s, sales_per_region_dict[s])"
   ]
  },
  {
   "cell_type": "markdown",
   "metadata": {},
   "source": [
    "В каждом регионе в топ-5 платформ входит PS3. \n",
    "\n",
    "Далее значения выстроены по убыванию:\n",
    "- Самые большие продажи зафиксированы в Северной Америке\n",
    "- Европа (почти в 2 раза меньше продаж)\n",
    "- Япония (отстаёт от Европы более чем в 2 раза)\n",
    "- Регионы не относящиеся к Европе, Японии и Северной Америке (практически наравне с Японией)"
   ]
  },
  {
   "cell_type": "markdown",
   "metadata": {},
   "source": [
    "### Топ-5 самых популярных жанров для пользователя  каждого региона."
   ]
  },
  {
   "cell_type": "code",
   "execution_count": 579,
   "metadata": {},
   "outputs": [
    {
     "data": {
      "text/html": [
       "<div>\n",
       "<style scoped>\n",
       "    .dataframe tbody tr th:only-of-type {\n",
       "        vertical-align: middle;\n",
       "    }\n",
       "\n",
       "    .dataframe tbody tr th {\n",
       "        vertical-align: top;\n",
       "    }\n",
       "\n",
       "    .dataframe thead th {\n",
       "        text-align: right;\n",
       "    }\n",
       "</style>\n",
       "<table border=\"1\" class=\"dataframe\">\n",
       "  <thead>\n",
       "    <tr style=\"text-align: right;\">\n",
       "      <th></th>\n",
       "      <th>eu_sales</th>\n",
       "      <th>jp_sales</th>\n",
       "      <th>na_sales</th>\n",
       "      <th>other_sales</th>\n",
       "    </tr>\n",
       "    <tr>\n",
       "      <th>genre</th>\n",
       "      <th></th>\n",
       "      <th></th>\n",
       "      <th></th>\n",
       "      <th></th>\n",
       "    </tr>\n",
       "  </thead>\n",
       "  <tbody>\n",
       "    <tr>\n",
       "      <th>Action</th>\n",
       "      <td>335.67</td>\n",
       "      <td>96.29</td>\n",
       "      <td>492.17</td>\n",
       "      <td>126.46</td>\n",
       "    </tr>\n",
       "    <tr>\n",
       "      <th>Adventure</th>\n",
       "      <td>35.32</td>\n",
       "      <td>26.91</td>\n",
       "      <td>56.41</td>\n",
       "      <td>11.35</td>\n",
       "    </tr>\n",
       "    <tr>\n",
       "      <th>Fighting</th>\n",
       "      <td>38.15</td>\n",
       "      <td>25.79</td>\n",
       "      <td>81.87</td>\n",
       "      <td>20.19</td>\n",
       "    </tr>\n",
       "  </tbody>\n",
       "</table>\n",
       "</div>"
      ],
      "text/plain": [
       "           eu_sales  jp_sales  na_sales  other_sales\n",
       "genre                                               \n",
       "Action       335.67     96.29    492.17       126.46\n",
       "Adventure     35.32     26.91     56.41        11.35\n",
       "Fighting      38.15     25.79     81.87        20.19"
      ]
     },
     "execution_count": 579,
     "metadata": {},
     "output_type": "execute_result"
    }
   ],
   "source": [
    "top_region_genres = actual_data.pivot_table(index = 'genre',\n",
    "                                        values = ['na_sales', 'eu_sales', 'jp_sales', 'other_sales'],\n",
    "                                        aggfunc = 'sum')\n",
    "top_region_genres.head(3)"
   ]
  },
  {
   "cell_type": "code",
   "execution_count": 580,
   "metadata": {},
   "outputs": [],
   "source": [
    "def top_five_genres(region_sales):\n",
    "    \"\"\"\n",
    "    Показывает топ-5 жанров для выбранного региона.\n",
    "    \"\"\"\n",
    "    top_five_region_genres = top_region_genres[region_sales].sort_values(ascending = False).head(5)\n",
    "    return pd.DataFrame(top_five_region_genres)"
   ]
  },
  {
   "cell_type": "code",
   "execution_count": 581,
   "metadata": {},
   "outputs": [
    {
     "data": {
      "image/png": "[encoded data removed]",
      "text/plain": [
       "<Figure size 864x432 with 1 Axes>"
      ]
     },
     "metadata": {
      "needs_background": "light"
     },
     "output_type": "display_data"
    },
    {
     "data": {
      "text/html": [
       "<div>\n",
       "<style scoped>\n",
       "    .dataframe tbody tr th:only-of-type {\n",
       "        vertical-align: middle;\n",
       "    }\n",
       "\n",
       "    .dataframe tbody tr th {\n",
       "        vertical-align: top;\n",
       "    }\n",
       "\n",
       "    .dataframe thead th {\n",
       "        text-align: right;\n",
       "    }\n",
       "</style>\n",
       "<table border=\"1\" class=\"dataframe\">\n",
       "  <thead>\n",
       "    <tr style=\"text-align: right;\">\n",
       "      <th></th>\n",
       "      <th>eu_sales</th>\n",
       "    </tr>\n",
       "    <tr>\n",
       "      <th>genre</th>\n",
       "      <th></th>\n",
       "    </tr>\n",
       "  </thead>\n",
       "  <tbody>\n",
       "    <tr>\n",
       "      <th>Action</th>\n",
       "      <td>335.67</td>\n",
       "    </tr>\n",
       "    <tr>\n",
       "      <th>Shooter</th>\n",
       "      <td>230.16</td>\n",
       "    </tr>\n",
       "    <tr>\n",
       "      <th>Sports</th>\n",
       "      <td>211.49</td>\n",
       "    </tr>\n",
       "    <tr>\n",
       "      <th>Misc</th>\n",
       "      <td>127.62</td>\n",
       "    </tr>\n",
       "    <tr>\n",
       "      <th>Racing</th>\n",
       "      <td>104.63</td>\n",
       "    </tr>\n",
       "  </tbody>\n",
       "</table>\n",
       "</div>"
      ],
      "text/plain": [
       "         eu_sales\n",
       "genre            \n",
       "Action     335.67\n",
       "Shooter    230.16\n",
       "Sports     211.49\n",
       "Misc       127.62\n",
       "Racing     104.63"
      ]
     },
     "execution_count": 581,
     "metadata": {},
     "output_type": "execute_result"
    }
   ],
   "source": [
    "top_region_genres['eu_sales'].sort_values(ascending = False).plot.bar(figsize = (12, 6))\n",
    "plt.title('Жанры пользователей региона Европа')\n",
    "plt.xlabel('Жанры')\n",
    "plt.ylabel('Продажи')\n",
    "plt.show()\n",
    "top_five_genres('eu_sales')"
   ]
  },
  {
   "cell_type": "code",
   "execution_count": 582,
   "metadata": {},
   "outputs": [
    {
     "data": {
      "image/png": "[encoded data removed]",
      "text/plain": [
       "<Figure size 864x432 with 1 Axes>"
      ]
     },
     "metadata": {
      "needs_background": "light"
     },
     "output_type": "display_data"
    },
    {
     "data": {
      "text/html": [
       "<div>\n",
       "<style scoped>\n",
       "    .dataframe tbody tr th:only-of-type {\n",
       "        vertical-align: middle;\n",
       "    }\n",
       "\n",
       "    .dataframe tbody tr th {\n",
       "        vertical-align: top;\n",
       "    }\n",
       "\n",
       "    .dataframe thead th {\n",
       "        text-align: right;\n",
       "    }\n",
       "</style>\n",
       "<table border=\"1\" class=\"dataframe\">\n",
       "  <thead>\n",
       "    <tr style=\"text-align: right;\">\n",
       "      <th></th>\n",
       "      <th>eu_sales</th>\n",
       "    </tr>\n",
       "    <tr>\n",
       "      <th>genre</th>\n",
       "      <th></th>\n",
       "    </tr>\n",
       "  </thead>\n",
       "  <tbody>\n",
       "    <tr>\n",
       "      <th>Action</th>\n",
       "      <td>335.67</td>\n",
       "    </tr>\n",
       "    <tr>\n",
       "      <th>Shooter</th>\n",
       "      <td>230.16</td>\n",
       "    </tr>\n",
       "    <tr>\n",
       "      <th>Sports</th>\n",
       "      <td>211.49</td>\n",
       "    </tr>\n",
       "    <tr>\n",
       "      <th>Misc</th>\n",
       "      <td>127.62</td>\n",
       "    </tr>\n",
       "    <tr>\n",
       "      <th>Racing</th>\n",
       "      <td>104.63</td>\n",
       "    </tr>\n",
       "  </tbody>\n",
       "</table>\n",
       "</div>"
      ],
      "text/plain": [
       "         eu_sales\n",
       "genre            \n",
       "Action     335.67\n",
       "Shooter    230.16\n",
       "Sports     211.49\n",
       "Misc       127.62\n",
       "Racing     104.63"
      ]
     },
     "execution_count": 582,
     "metadata": {},
     "output_type": "execute_result"
    }
   ],
   "source": [
    "top_region_genres['eu_sales'].sort_values(ascending = False).plot.bar(figsize = (12, 6))\n",
    "plt.title('Жанры пользователей региона Европа')\n",
    "plt.xlabel('Жанры')\n",
    "plt.ylabel('Продажи')\n",
    "plt.show()\n",
    "top_five_genres('eu_sales')"
   ]
  },
  {
   "cell_type": "code",
   "execution_count": 583,
   "metadata": {},
   "outputs": [
    {
     "data": {
      "image/png": "[encoded data removed]",
      "text/plain": [
       "<Figure size 864x432 with 1 Axes>"
      ]
     },
     "metadata": {
      "needs_background": "light"
     },
     "output_type": "display_data"
    },
    {
     "data": {
      "text/html": [
       "<div>\n",
       "<style scoped>\n",
       "    .dataframe tbody tr th:only-of-type {\n",
       "        vertical-align: middle;\n",
       "    }\n",
       "\n",
       "    .dataframe tbody tr th {\n",
       "        vertical-align: top;\n",
       "    }\n",
       "\n",
       "    .dataframe thead th {\n",
       "        text-align: right;\n",
       "    }\n",
       "</style>\n",
       "<table border=\"1\" class=\"dataframe\">\n",
       "  <thead>\n",
       "    <tr style=\"text-align: right;\">\n",
       "      <th></th>\n",
       "      <th>eu_sales</th>\n",
       "    </tr>\n",
       "    <tr>\n",
       "      <th>genre</th>\n",
       "      <th></th>\n",
       "    </tr>\n",
       "  </thead>\n",
       "  <tbody>\n",
       "    <tr>\n",
       "      <th>Action</th>\n",
       "      <td>335.67</td>\n",
       "    </tr>\n",
       "    <tr>\n",
       "      <th>Shooter</th>\n",
       "      <td>230.16</td>\n",
       "    </tr>\n",
       "    <tr>\n",
       "      <th>Sports</th>\n",
       "      <td>211.49</td>\n",
       "    </tr>\n",
       "    <tr>\n",
       "      <th>Misc</th>\n",
       "      <td>127.62</td>\n",
       "    </tr>\n",
       "    <tr>\n",
       "      <th>Racing</th>\n",
       "      <td>104.63</td>\n",
       "    </tr>\n",
       "  </tbody>\n",
       "</table>\n",
       "</div>"
      ],
      "text/plain": [
       "         eu_sales\n",
       "genre            \n",
       "Action     335.67\n",
       "Shooter    230.16\n",
       "Sports     211.49\n",
       "Misc       127.62\n",
       "Racing     104.63"
      ]
     },
     "execution_count": 583,
     "metadata": {},
     "output_type": "execute_result"
    }
   ],
   "source": [
    "top_region_genres['eu_sales'].sort_values(ascending = False).plot.bar(figsize = (12, 6))\n",
    "plt.title('Жанры пользователей региона Европа')\n",
    "plt.xlabel('Жанры')\n",
    "plt.ylabel('Продажи')\n",
    "plt.show()\n",
    "top_five_genres('eu_sales')"
   ]
  },
  {
   "cell_type": "code",
   "execution_count": 584,
   "metadata": {},
   "outputs": [
    {
     "data": {
      "image/png": "[encoded data removed]",
      "text/plain": [
       "<Figure size 864x432 with 1 Axes>"
      ]
     },
     "metadata": {
      "needs_background": "light"
     },
     "output_type": "display_data"
    },
    {
     "data": {
      "text/html": [
       "<div>\n",
       "<style scoped>\n",
       "    .dataframe tbody tr th:only-of-type {\n",
       "        vertical-align: middle;\n",
       "    }\n",
       "\n",
       "    .dataframe tbody tr th {\n",
       "        vertical-align: top;\n",
       "    }\n",
       "\n",
       "    .dataframe thead th {\n",
       "        text-align: right;\n",
       "    }\n",
       "</style>\n",
       "<table border=\"1\" class=\"dataframe\">\n",
       "  <thead>\n",
       "    <tr style=\"text-align: right;\">\n",
       "      <th></th>\n",
       "      <th>other_sales</th>\n",
       "    </tr>\n",
       "    <tr>\n",
       "      <th>genre</th>\n",
       "      <th></th>\n",
       "    </tr>\n",
       "  </thead>\n",
       "  <tbody>\n",
       "    <tr>\n",
       "      <th>Action</th>\n",
       "      <td>126.46</td>\n",
       "    </tr>\n",
       "    <tr>\n",
       "      <th>Sports</th>\n",
       "      <td>82.44</td>\n",
       "    </tr>\n",
       "    <tr>\n",
       "      <th>Shooter</th>\n",
       "      <td>81.07</td>\n",
       "    </tr>\n",
       "    <tr>\n",
       "      <th>Misc</th>\n",
       "      <td>52.32</td>\n",
       "    </tr>\n",
       "    <tr>\n",
       "      <th>Role-Playing</th>\n",
       "      <td>36.40</td>\n",
       "    </tr>\n",
       "  </tbody>\n",
       "</table>\n",
       "</div>"
      ],
      "text/plain": [
       "              other_sales\n",
       "genre                    \n",
       "Action             126.46\n",
       "Sports              82.44\n",
       "Shooter             81.07\n",
       "Misc                52.32\n",
       "Role-Playing        36.40"
      ]
     },
     "execution_count": 584,
     "metadata": {},
     "output_type": "execute_result"
    }
   ],
   "source": [
    "top_region_genres['other_sales'].sort_values(ascending = False).plot.bar(figsize = (12, 6))\n",
    "plt.title('Жанры пользователей регионов, не относящихся к Европе, Японии и Северной Америке')\n",
    "plt.xlabel('Жанры')\n",
    "plt.ylabel('Продажи')\n",
    "plt.show()\n",
    "top_five_genres('other_sales')"
   ]
  },
  {
   "cell_type": "code",
   "execution_count": 585,
   "metadata": {},
   "outputs": [
    {
     "name": "stdout",
     "output_type": "stream",
     "text": [
      "Сумма продаж по топ-5 жанрам в регионе Япония: 362\n",
      "Сумма продаж по топ-5 жанрам в регионах не относящихся к Европе, Японии и Северной Америке 378\n",
      "Сумма продаж по топ-5 жанрам в регионе Европа: 1009\n",
      "Сумма продаж по топ-5 жанрам в регионе Северная Америка: 1600\n"
     ]
    }
   ],
   "source": [
    "sales_per_genre_dict = {'Сумма продаж по топ-5 жанрам в регионе Европа:':\n",
    "                         int(top_five_genres('eu_sales')['eu_sales'].sum()),\n",
    "                         'Сумма продаж по топ-5 жанрам в регионе Япония:':\n",
    "                         int(top_five_genres('jp_sales')['jp_sales'].sum()),\n",
    "                         'Сумма продаж по топ-5 жанрам в регионе Северная Америка:':\n",
    "                         int(top_five_genres('na_sales')['na_sales'].sum()),\n",
    "                         'Сумма продаж по топ-5 жанрам в регионах не относящихся к Европе, Японии и Северной Америке':\n",
    "                         int(top_five_genres('other_sales')['other_sales'].sum())}\n",
    "for s in sorted(sales_per_genre_dict, key = sales_per_genre_dict.get):\n",
    "    print(s, sales_per_genre_dict[s])"
   ]
  },
  {
   "cell_type": "markdown",
   "metadata": {},
   "source": [
    "Рейтинг топ-5 жанров одинаковый для Европы, Северной Америки и Японии.<br>\n",
    "Эти жанры перечислены далее в формате от самых высоких продаж до самых низких:\n",
    "- Action\n",
    "- Sports\n",
    "- Shooter\n",
    "- Misc\n",
    "- Racing\n",
    "\n",
    "Единственное отличие топ-5 жанров в регионах не относящихся к Европе, Японии и Северной Америке - продажи по жанру Role-Playing здесь больше, чем по жанру Racing.\n",
    "\n",
    "Далее значения выстроены по убыванию:\n",
    "- Самые большие продажи зафиксированы в Северной Америке\n",
    "- Европа (в 1.5 раза меньше продаж)\n",
    "- Регионы не относящиеся к Европе, Японии и Северной Америке (отстаёт от Европы более чем в 2 раза)\n",
    "- Япония (практически наравне с регионами не относящимися к Европе, Японии и Северной Америке )"
   ]
  },
  {
   "cell_type": "code",
   "execution_count": 586,
   "metadata": {},
   "outputs": [
    {
     "data": {
      "text/html": [
       "<div>\n",
       "<style scoped>\n",
       "    .dataframe tbody tr th:only-of-type {\n",
       "        vertical-align: middle;\n",
       "    }\n",
       "\n",
       "    .dataframe tbody tr th {\n",
       "        vertical-align: top;\n",
       "    }\n",
       "\n",
       "    .dataframe thead th {\n",
       "        text-align: right;\n",
       "    }\n",
       "</style>\n",
       "<table border=\"1\" class=\"dataframe\">\n",
       "  <thead>\n",
       "    <tr style=\"text-align: right;\">\n",
       "      <th></th>\n",
       "      <th>name</th>\n",
       "      <th>platform</th>\n",
       "      <th>year_of_release</th>\n",
       "      <th>genre</th>\n",
       "      <th>na_sales</th>\n",
       "      <th>eu_sales</th>\n",
       "      <th>jp_sales</th>\n",
       "      <th>other_sales</th>\n",
       "      <th>total_sales</th>\n",
       "      <th>critic_score</th>\n",
       "      <th>user_score</th>\n",
       "      <th>rating</th>\n",
       "    </tr>\n",
       "  </thead>\n",
       "  <tbody>\n",
       "    <tr>\n",
       "      <th>2</th>\n",
       "      <td>Mario Kart Wii</td>\n",
       "      <td>Wii</td>\n",
       "      <td>2008</td>\n",
       "      <td>Racing</td>\n",
       "      <td>15.68</td>\n",
       "      <td>12.76</td>\n",
       "      <td>3.79</td>\n",
       "      <td>3.29</td>\n",
       "      <td>35.52</td>\n",
       "      <td>82.0</td>\n",
       "      <td>8.3</td>\n",
       "      <td>E</td>\n",
       "    </tr>\n",
       "    <tr>\n",
       "      <th>3</th>\n",
       "      <td>Wii Sports Resort</td>\n",
       "      <td>Wii</td>\n",
       "      <td>2009</td>\n",
       "      <td>Sports</td>\n",
       "      <td>15.61</td>\n",
       "      <td>10.93</td>\n",
       "      <td>3.28</td>\n",
       "      <td>2.95</td>\n",
       "      <td>32.77</td>\n",
       "      <td>80.0</td>\n",
       "      <td>8.0</td>\n",
       "      <td>E</td>\n",
       "    </tr>\n",
       "    <tr>\n",
       "      <th>8</th>\n",
       "      <td>New Super Mario Bros. Wii</td>\n",
       "      <td>Wii</td>\n",
       "      <td>2009</td>\n",
       "      <td>Platform</td>\n",
       "      <td>14.44</td>\n",
       "      <td>6.94</td>\n",
       "      <td>4.70</td>\n",
       "      <td>2.24</td>\n",
       "      <td>28.32</td>\n",
       "      <td>87.0</td>\n",
       "      <td>8.4</td>\n",
       "      <td>E</td>\n",
       "    </tr>\n",
       "    <tr>\n",
       "      <th>13</th>\n",
       "      <td>Wii Fit</td>\n",
       "      <td>Wii</td>\n",
       "      <td>2007</td>\n",
       "      <td>Sports</td>\n",
       "      <td>8.92</td>\n",
       "      <td>8.03</td>\n",
       "      <td>3.60</td>\n",
       "      <td>2.15</td>\n",
       "      <td>22.70</td>\n",
       "      <td>80.0</td>\n",
       "      <td>7.7</td>\n",
       "      <td>E</td>\n",
       "    </tr>\n",
       "    <tr>\n",
       "      <th>14</th>\n",
       "      <td>Kinect Adventures!</td>\n",
       "      <td>X360</td>\n",
       "      <td>2010</td>\n",
       "      <td>Misc</td>\n",
       "      <td>15.00</td>\n",
       "      <td>4.89</td>\n",
       "      <td>0.24</td>\n",
       "      <td>1.69</td>\n",
       "      <td>21.82</td>\n",
       "      <td>61.0</td>\n",
       "      <td>6.3</td>\n",
       "      <td>E</td>\n",
       "    </tr>\n",
       "  </tbody>\n",
       "</table>\n",
       "</div>"
      ],
      "text/plain": [
       "                         name platform  year_of_release     genre  na_sales  \\\n",
       "2              Mario Kart Wii      Wii             2008    Racing     15.68   \n",
       "3           Wii Sports Resort      Wii             2009    Sports     15.61   \n",
       "8   New Super Mario Bros. Wii      Wii             2009  Platform     14.44   \n",
       "13                    Wii Fit      Wii             2007    Sports      8.92   \n",
       "14         Kinect Adventures!     X360             2010      Misc     15.00   \n",
       "\n",
       "    eu_sales  jp_sales  other_sales  total_sales  critic_score  user_score  \\\n",
       "2      12.76      3.79         3.29        35.52          82.0         8.3   \n",
       "3      10.93      3.28         2.95        32.77          80.0         8.0   \n",
       "8       6.94      4.70         2.24        28.32          87.0         8.4   \n",
       "13      8.03      3.60         2.15        22.70          80.0         7.7   \n",
       "14      4.89      0.24         1.69        21.82          61.0         6.3   \n",
       "\n",
       "   rating  \n",
       "2       E  \n",
       "3       E  \n",
       "8       E  \n",
       "13      E  \n",
       "14      E  "
      ]
     },
     "execution_count": 586,
     "metadata": {},
     "output_type": "execute_result"
    }
   ],
   "source": [
    "actual_data.head()"
   ]
  },
  {
   "cell_type": "code",
   "execution_count": 587,
   "metadata": {},
   "outputs": [
    {
     "data": {
      "text/html": [
       "<div>\n",
       "<style scoped>\n",
       "    .dataframe tbody tr th:only-of-type {\n",
       "        vertical-align: middle;\n",
       "    }\n",
       "\n",
       "    .dataframe tbody tr th {\n",
       "        vertical-align: top;\n",
       "    }\n",
       "\n",
       "    .dataframe thead th {\n",
       "        text-align: right;\n",
       "    }\n",
       "</style>\n",
       "<table border=\"1\" class=\"dataframe\">\n",
       "  <thead>\n",
       "    <tr style=\"text-align: right;\">\n",
       "      <th></th>\n",
       "      <th>eu_sales</th>\n",
       "      <th>jp_sales</th>\n",
       "      <th>na_sales</th>\n",
       "      <th>other_sales</th>\n",
       "    </tr>\n",
       "    <tr>\n",
       "      <th>rating</th>\n",
       "      <th></th>\n",
       "      <th></th>\n",
       "      <th></th>\n",
       "      <th></th>\n",
       "    </tr>\n",
       "  </thead>\n",
       "  <tbody>\n",
       "    <tr>\n",
       "      <th>E</th>\n",
       "      <td>393.08</td>\n",
       "      <td>95.06</td>\n",
       "      <td>663.99</td>\n",
       "      <td>138.48</td>\n",
       "    </tr>\n",
       "    <tr>\n",
       "      <th>E10+</th>\n",
       "      <td>162.75</td>\n",
       "      <td>31.91</td>\n",
       "      <td>287.61</td>\n",
       "      <td>61.97</td>\n",
       "    </tr>\n",
       "    <tr>\n",
       "      <th>EC</th>\n",
       "      <td>0.00</td>\n",
       "      <td>0.00</td>\n",
       "      <td>1.32</td>\n",
       "      <td>0.08</td>\n",
       "    </tr>\n",
       "    <tr>\n",
       "      <th>M</th>\n",
       "      <td>385.86</td>\n",
       "      <td>41.09</td>\n",
       "      <td>546.55</td>\n",
       "      <td>134.30</td>\n",
       "    </tr>\n",
       "    <tr>\n",
       "      <th>RP</th>\n",
       "      <td>0.03</td>\n",
       "      <td>0.00</td>\n",
       "      <td>0.00</td>\n",
       "      <td>0.01</td>\n",
       "    </tr>\n",
       "    <tr>\n",
       "      <th>T</th>\n",
       "      <td>217.89</td>\n",
       "      <td>74.74</td>\n",
       "      <td>371.32</td>\n",
       "      <td>94.12</td>\n",
       "    </tr>\n",
       "  </tbody>\n",
       "</table>\n",
       "</div>"
      ],
      "text/plain": [
       "        eu_sales  jp_sales  na_sales  other_sales\n",
       "rating                                           \n",
       "E         393.08     95.06    663.99       138.48\n",
       "E10+      162.75     31.91    287.61        61.97\n",
       "EC          0.00      0.00      1.32         0.08\n",
       "M         385.86     41.09    546.55       134.30\n",
       "RP          0.03      0.00      0.00         0.01\n",
       "T         217.89     74.74    371.32        94.12"
      ]
     },
     "execution_count": 587,
     "metadata": {},
     "output_type": "execute_result"
    }
   ],
   "source": [
    "ESRB = actual_data.pivot_table(index = 'rating',\n",
    "                                        values = ['na_sales', 'eu_sales', 'jp_sales', 'other_sales'],\n",
    "                                        aggfunc = 'sum')\n",
    "ESRB"
   ]
  },
  {
   "cell_type": "code",
   "execution_count": 588,
   "metadata": {},
   "outputs": [
    {
     "data": {
      "text/html": [
       "<div>\n",
       "<style scoped>\n",
       "    .dataframe tbody tr th:only-of-type {\n",
       "        vertical-align: middle;\n",
       "    }\n",
       "\n",
       "    .dataframe tbody tr th {\n",
       "        vertical-align: top;\n",
       "    }\n",
       "\n",
       "    .dataframe thead th {\n",
       "        text-align: right;\n",
       "    }\n",
       "</style>\n",
       "<table border=\"1\" class=\"dataframe\">\n",
       "  <thead>\n",
       "    <tr style=\"text-align: right;\">\n",
       "      <th></th>\n",
       "      <th>eu_sales</th>\n",
       "      <th>jp_sales</th>\n",
       "      <th>na_sales</th>\n",
       "      <th>other_sales</th>\n",
       "    </tr>\n",
       "    <tr>\n",
       "      <th>rating</th>\n",
       "      <th></th>\n",
       "      <th></th>\n",
       "      <th></th>\n",
       "      <th></th>\n",
       "    </tr>\n",
       "  </thead>\n",
       "  <tbody>\n",
       "    <tr>\n",
       "      <th>E</th>\n",
       "      <td>34.0</td>\n",
       "      <td>39.0</td>\n",
       "      <td>35.0</td>\n",
       "      <td>32.0</td>\n",
       "    </tr>\n",
       "    <tr>\n",
       "      <th>E10+</th>\n",
       "      <td>14.0</td>\n",
       "      <td>13.0</td>\n",
       "      <td>15.0</td>\n",
       "      <td>14.0</td>\n",
       "    </tr>\n",
       "    <tr>\n",
       "      <th>EC</th>\n",
       "      <td>0.0</td>\n",
       "      <td>0.0</td>\n",
       "      <td>0.0</td>\n",
       "      <td>0.0</td>\n",
       "    </tr>\n",
       "    <tr>\n",
       "      <th>M</th>\n",
       "      <td>33.0</td>\n",
       "      <td>17.0</td>\n",
       "      <td>29.0</td>\n",
       "      <td>31.0</td>\n",
       "    </tr>\n",
       "    <tr>\n",
       "      <th>RP</th>\n",
       "      <td>0.0</td>\n",
       "      <td>0.0</td>\n",
       "      <td>0.0</td>\n",
       "      <td>0.0</td>\n",
       "    </tr>\n",
       "    <tr>\n",
       "      <th>T</th>\n",
       "      <td>19.0</td>\n",
       "      <td>31.0</td>\n",
       "      <td>20.0</td>\n",
       "      <td>22.0</td>\n",
       "    </tr>\n",
       "  </tbody>\n",
       "</table>\n",
       "</div>"
      ],
      "text/plain": [
       "        eu_sales  jp_sales  na_sales  other_sales\n",
       "rating                                           \n",
       "E           34.0      39.0      35.0         32.0\n",
       "E10+        14.0      13.0      15.0         14.0\n",
       "EC           0.0       0.0       0.0          0.0\n",
       "M           33.0      17.0      29.0         31.0\n",
       "RP           0.0       0.0       0.0          0.0\n",
       "T           19.0      31.0      20.0         22.0"
      ]
     },
     "execution_count": 588,
     "metadata": {},
     "output_type": "execute_result"
    }
   ],
   "source": [
    "ESRB_percent = ESRB.apply(lambda col: round((col / col.sum()), 2)* 100)\n",
    "ESRB_percent"
   ]
  },
  {
   "cell_type": "code",
   "execution_count": 648,
   "metadata": {},
   "outputs": [
    {
     "name": "stdout",
     "output_type": "stream",
     "text": [
      "eu_sales\n",
      "jp_sales\n",
      "na_sales\n",
      "other_sales\n"
     ]
    }
   ],
   "source": [
    "for rating in ESRB:\n",
    "#     for region_sales in rating:\n",
    "    print(rating)"
   ]
  },
  {
   "cell_type": "code",
   "execution_count": 653,
   "metadata": {},
   "outputs": [
    {
     "data": {
      "text/html": [
       "<div>\n",
       "<style scoped>\n",
       "    .dataframe tbody tr th:only-of-type {\n",
       "        vertical-align: middle;\n",
       "    }\n",
       "\n",
       "    .dataframe tbody tr th {\n",
       "        vertical-align: top;\n",
       "    }\n",
       "\n",
       "    .dataframe thead th {\n",
       "        text-align: right;\n",
       "    }\n",
       "</style>\n",
       "<table border=\"1\" class=\"dataframe\">\n",
       "  <thead>\n",
       "    <tr style=\"text-align: right;\">\n",
       "      <th></th>\n",
       "      <th>eu_sales</th>\n",
       "      <th>jp_sales</th>\n",
       "      <th>na_sales</th>\n",
       "      <th>other_sales</th>\n",
       "    </tr>\n",
       "    <tr>\n",
       "      <th>rating</th>\n",
       "      <th></th>\n",
       "      <th></th>\n",
       "      <th></th>\n",
       "      <th></th>\n",
       "    </tr>\n",
       "  </thead>\n",
       "  <tbody>\n",
       "    <tr>\n",
       "      <th>E</th>\n",
       "      <td>0.34</td>\n",
       "      <td>0.39</td>\n",
       "      <td>0.35</td>\n",
       "      <td>0.32</td>\n",
       "    </tr>\n",
       "    <tr>\n",
       "      <th>E10+</th>\n",
       "      <td>0.14</td>\n",
       "      <td>0.13</td>\n",
       "      <td>0.15</td>\n",
       "      <td>0.14</td>\n",
       "    </tr>\n",
       "    <tr>\n",
       "      <th>EC</th>\n",
       "      <td>0.00</td>\n",
       "      <td>0.00</td>\n",
       "      <td>0.00</td>\n",
       "      <td>0.00</td>\n",
       "    </tr>\n",
       "    <tr>\n",
       "      <th>M</th>\n",
       "      <td>0.33</td>\n",
       "      <td>0.17</td>\n",
       "      <td>0.29</td>\n",
       "      <td>0.31</td>\n",
       "    </tr>\n",
       "    <tr>\n",
       "      <th>RP</th>\n",
       "      <td>0.00</td>\n",
       "      <td>0.00</td>\n",
       "      <td>0.00</td>\n",
       "      <td>0.00</td>\n",
       "    </tr>\n",
       "    <tr>\n",
       "      <th>T</th>\n",
       "      <td>0.19</td>\n",
       "      <td>0.31</td>\n",
       "      <td>0.20</td>\n",
       "      <td>0.22</td>\n",
       "    </tr>\n",
       "  </tbody>\n",
       "</table>\n",
       "</div>"
      ],
      "text/plain": [
       "        eu_sales  jp_sales  na_sales  other_sales\n",
       "rating                                           \n",
       "E           0.34      0.39      0.35         0.32\n",
       "E10+        0.14      0.13      0.15         0.14\n",
       "EC          0.00      0.00      0.00         0.00\n",
       "M           0.33      0.17      0.29         0.31\n",
       "RP          0.00      0.00      0.00         0.00\n",
       "T           0.19      0.31      0.20         0.22"
      ]
     },
     "execution_count": 653,
     "metadata": {},
     "output_type": "execute_result"
    }
   ],
   "source": [
    "ESRB_fract = ESRB.apply(lambda col: round((col / col.sum()), 2))\n",
    "ESRB_fract"
   ]
  },
  {
   "cell_type": "code",
   "execution_count": 655,
   "metadata": {},
   "outputs": [
    {
     "data": {
      "text/html": [
       "<style  type=\"text/css\" >\n",
       "</style><table id=\"T_6e88ff6c_391b_11ee_9654_0cdd24206871\" ><thead>    <tr>        <th class=\"blank level0\" ></th>        <th class=\"col_heading level0 col0\" >eu_sales</th>        <th class=\"col_heading level0 col1\" >jp_sales</th>        <th class=\"col_heading level0 col2\" >na_sales</th>        <th class=\"col_heading level0 col3\" >other_sales</th>    </tr>    <tr>        <th class=\"index_name level0\" >rating</th>        <th class=\"blank\" ></th>        <th class=\"blank\" ></th>        <th class=\"blank\" ></th>        <th class=\"blank\" ></th>    </tr></thead><tbody>\n",
       "                <tr>\n",
       "                        <th id=\"T_6e88ff6c_391b_11ee_9654_0cdd24206871level0_row0\" class=\"row_heading level0 row0\" >E</th>\n",
       "                        <td id=\"T_6e88ff6c_391b_11ee_9654_0cdd24206871row0_col0\" class=\"data row0 col0\" >34%</td>\n",
       "                        <td id=\"T_6e88ff6c_391b_11ee_9654_0cdd24206871row0_col1\" class=\"data row0 col1\" >39%</td>\n",
       "                        <td id=\"T_6e88ff6c_391b_11ee_9654_0cdd24206871row0_col2\" class=\"data row0 col2\" >35%</td>\n",
       "                        <td id=\"T_6e88ff6c_391b_11ee_9654_0cdd24206871row0_col3\" class=\"data row0 col3\" >32%</td>\n",
       "            </tr>\n",
       "            <tr>\n",
       "                        <th id=\"T_6e88ff6c_391b_11ee_9654_0cdd24206871level0_row1\" class=\"row_heading level0 row1\" >E10+</th>\n",
       "                        <td id=\"T_6e88ff6c_391b_11ee_9654_0cdd24206871row1_col0\" class=\"data row1 col0\" >14%</td>\n",
       "                        <td id=\"T_6e88ff6c_391b_11ee_9654_0cdd24206871row1_col1\" class=\"data row1 col1\" >13%</td>\n",
       "                        <td id=\"T_6e88ff6c_391b_11ee_9654_0cdd24206871row1_col2\" class=\"data row1 col2\" >15%</td>\n",
       "                        <td id=\"T_6e88ff6c_391b_11ee_9654_0cdd24206871row1_col3\" class=\"data row1 col3\" >14%</td>\n",
       "            </tr>\n",
       "            <tr>\n",
       "                        <th id=\"T_6e88ff6c_391b_11ee_9654_0cdd24206871level0_row2\" class=\"row_heading level0 row2\" >EC</th>\n",
       "                        <td id=\"T_6e88ff6c_391b_11ee_9654_0cdd24206871row2_col0\" class=\"data row2 col0\" >0%</td>\n",
       "                        <td id=\"T_6e88ff6c_391b_11ee_9654_0cdd24206871row2_col1\" class=\"data row2 col1\" >0%</td>\n",
       "                        <td id=\"T_6e88ff6c_391b_11ee_9654_0cdd24206871row2_col2\" class=\"data row2 col2\" >0%</td>\n",
       "                        <td id=\"T_6e88ff6c_391b_11ee_9654_0cdd24206871row2_col3\" class=\"data row2 col3\" >0%</td>\n",
       "            </tr>\n",
       "            <tr>\n",
       "                        <th id=\"T_6e88ff6c_391b_11ee_9654_0cdd24206871level0_row3\" class=\"row_heading level0 row3\" >M</th>\n",
       "                        <td id=\"T_6e88ff6c_391b_11ee_9654_0cdd24206871row3_col0\" class=\"data row3 col0\" >33%</td>\n",
       "                        <td id=\"T_6e88ff6c_391b_11ee_9654_0cdd24206871row3_col1\" class=\"data row3 col1\" >17%</td>\n",
       "                        <td id=\"T_6e88ff6c_391b_11ee_9654_0cdd24206871row3_col2\" class=\"data row3 col2\" >29%</td>\n",
       "                        <td id=\"T_6e88ff6c_391b_11ee_9654_0cdd24206871row3_col3\" class=\"data row3 col3\" >31%</td>\n",
       "            </tr>\n",
       "            <tr>\n",
       "                        <th id=\"T_6e88ff6c_391b_11ee_9654_0cdd24206871level0_row4\" class=\"row_heading level0 row4\" >RP</th>\n",
       "                        <td id=\"T_6e88ff6c_391b_11ee_9654_0cdd24206871row4_col0\" class=\"data row4 col0\" >0%</td>\n",
       "                        <td id=\"T_6e88ff6c_391b_11ee_9654_0cdd24206871row4_col1\" class=\"data row4 col1\" >0%</td>\n",
       "                        <td id=\"T_6e88ff6c_391b_11ee_9654_0cdd24206871row4_col2\" class=\"data row4 col2\" >0%</td>\n",
       "                        <td id=\"T_6e88ff6c_391b_11ee_9654_0cdd24206871row4_col3\" class=\"data row4 col3\" >0%</td>\n",
       "            </tr>\n",
       "            <tr>\n",
       "                        <th id=\"T_6e88ff6c_391b_11ee_9654_0cdd24206871level0_row5\" class=\"row_heading level0 row5\" >T</th>\n",
       "                        <td id=\"T_6e88ff6c_391b_11ee_9654_0cdd24206871row5_col0\" class=\"data row5 col0\" >19%</td>\n",
       "                        <td id=\"T_6e88ff6c_391b_11ee_9654_0cdd24206871row5_col1\" class=\"data row5 col1\" >31%</td>\n",
       "                        <td id=\"T_6e88ff6c_391b_11ee_9654_0cdd24206871row5_col2\" class=\"data row5 col2\" >20%</td>\n",
       "                        <td id=\"T_6e88ff6c_391b_11ee_9654_0cdd24206871row5_col3\" class=\"data row5 col3\" >22%</td>\n",
       "            </tr>\n",
       "    </tbody></table>"
      ],
      "text/plain": [
       "<pandas.io.formats.style.Styler at 0x2159d79da00>"
      ]
     },
     "execution_count": 655,
     "metadata": {},
     "output_type": "execute_result"
    }
   ],
   "source": [
    "df_percent = ESRB_fract.style.format({\n",
    "    'eu_sales': '{:,.0%}'.format,\n",
    "    'jp_sales': '{:,.0%}'.format,\n",
    "    'na_sales': '{:,.0%}'.format,\n",
    "    'other_sales': '{:,.0%}'\n",
    "})\n",
    "\n",
    "df_percent"
   ]
  },
  {
   "cell_type": "markdown",
   "metadata": {},
   "source": [
    "Рейтинг не столько влияет на продажи в отдельном регионе, сколько на продажи в целом. Это можно понять по тому, что в % каждый рейтинг влияет на продажи по всем регионам примерно в равной мере. На пример продажи при рейтинге E во всех регионах находятся в диапазоне от 34% (Европа) до 39% (Япония), а продажи при рейтинге RP, или EC везде по нулям."
   ]
  },
  {
   "cell_type": "markdown",
   "metadata": {},
   "source": [
    "**Выводы по портрету пользователя**\n",
    "\n",
    "1. Самые популярные платформы по регионам.\n",
    "- Самые большие продажи зафиксированы в Северной Америке. Топ 5 платформ: (PS3, X360, Wii, PS4, DS)\n",
    "- В Европе почти в 2 раза меньше продаж, чем в Северной Америке. Топ 5 платформ:(DS, 3DS, PS3, PSP, Wii)\n",
    "- Япония отстаёт от Европы по продажам более чем в 2 раза. Топ 5 платформ:(DS, 3DS, PS3, PSP, Wii)\n",
    "- Регионы не относящиеся к Европе, Японии и Северной Америке находятся практически наравне с Японией. Топ 5 платформ: (PS3, X360, Wii, PS2, PS4)\n",
    "2. Самые популярные жанры по регионам.\n",
    "\n",
    "Рейтинг топ-5 жанров одинаковый для Европы, Северной Америки и Японии.<br>\n",
    "Эти жанры перечислены далее в формате от самых высоких продаж до самых низких:\n",
    "- Action\n",
    "- Sports\n",
    "- Shooter\n",
    "- Misc\n",
    "- Racing\n",
    "\n",
    "Единственное отличие топ-5 жанров в регионах не относящихся к Европе, Японии и Северной Америке - продажи по жанру Role-Playing здесь больше, чем по жанру Racing.\n",
    "\n",
    "Далее значения выстроены по убыванию:\n",
    "- Самые большие продажи зафиксированы в Северной Америке\n",
    "- Европа (в 1.5 раза меньше продаж)\n",
    "- Регионы не относящиеся к Европе, Японии и Северной Америке (отстаёт от Европы более чем в 2 раза)\n",
    "- Япония (практически наравне с регионами не относящимися к Европе, Японии и Северной Америке )\n",
    "\n",
    "3. Рейтинг оказывает слабое влияние на продажи в отдельном регионе, однако сиьлно влияет на продажи в целом."
   ]
  },
  {
   "cell_type": "markdown",
   "metadata": {},
   "source": [
    "## 5. Проверка гипотез"
   ]
  },
  {
   "cell_type": "markdown",
   "metadata": {},
   "source": [
    "### Средние пользовательские рейтинги платформ Xbox One и PC одинаковые;"
   ]
  },
  {
   "cell_type": "markdown",
   "metadata": {},
   "source": [
    "H0: Средние пользовательские рейтинги платформ Xbox One и PC одинаковые.<br>\n",
    "H1: Средние пользовательские рейтинги платформ Xbox One и PC разные."
   ]
  },
  {
   "cell_type": "code",
   "execution_count": 589,
   "metadata": {},
   "outputs": [
    {
     "name": "stdout",
     "output_type": "stream",
     "text": [
      "Средний пользовательский рейтинг платформы Xbox One: 6.52142857142857\n",
      "Средний пользовательский рейтинг платформы PC 6.765499124343266\n",
      "Стандартное отклонение Xbox One: 1.3771415462124992\n",
      "Стандартное отклонение PC: 1.5284748145637863\n"
     ]
    }
   ],
   "source": [
    "xone_rating = actual_data.query('platform == \"XOne\" and user_score != \"NaN\"')['user_score']\n",
    "print('Средний пользовательский рейтинг платформы Xbox One:', xone_rating.mean())\n",
    "\n",
    "pc_rating = actual_data.query('platform == \"PC\" and user_score != \"NaN\"')['user_score']\n",
    "print('Средний пользовательский рейтинг платформы PC', pc_rating.mean())\n",
    "\n",
    "print('Стандартное отклонение Xbox One:', np.std(xone_rating))\n",
    "print('Стандартное отклонение PC:', np.std(pc_rating))"
   ]
  },
  {
   "cell_type": "code",
   "execution_count": 590,
   "metadata": {},
   "outputs": [
    {
     "name": "stdout",
     "output_type": "stream",
     "text": [
      "p-значение: 0.04401892858926169\n",
      "Отвергаем нулевую гипотезу\n"
     ]
    }
   ],
   "source": [
    "results = st.ttest_ind(xone_rating, pc_rating, equal_var = False)\n",
    "\n",
    "print('p-значение:', results.pvalue)\n",
    "\n",
    "if (results.pvalue < 0.05):\n",
    "    print(\"Отвергаем нулевую гипотезу\")\n",
    "else:\n",
    "    print(\"Не отвергаем нулевую гипотезу\")"
   ]
  },
  {
   "cell_type": "markdown",
   "metadata": {},
   "source": [
    "Гипотеза была отвергнута, значит склоняемся к альтернативной гипотезе. Средние пользовательские рейтинги платформ Xbox One и PC разные.\n",
    "\n",
    "Для проверки гипотезы променялся T-критерий Уэлча. Был сделан выбор именно в пользу критерия Уэлча потому что он позволяет учесть различия в дисперсиях выборок,в данном случае это актуально, так как стандартные отклонения Xbox One и PC отличаются."
   ]
  },
  {
   "cell_type": "markdown",
   "metadata": {},
   "source": [
    "### Средние пользовательские рейтинги жанров Action и Sports разные."
   ]
  },
  {
   "cell_type": "markdown",
   "metadata": {},
   "source": [
    "H0: Средние пользовательские рейтинги жанров Action и Sports одинаковые<br>\n",
    "H1: Средние пользовательские рейтинги жанров Action и Sports разные"
   ]
  },
  {
   "cell_type": "code",
   "execution_count": 591,
   "metadata": {},
   "outputs": [
    {
     "name": "stdout",
     "output_type": "stream",
     "text": [
      "Средний пользовательский рейтинг жанра Action: 6.836079077429997\n",
      "Средний пользовательский рейтинг жанра Sports 6.307979626485568\n",
      "Стандартное отклонение Action: 1.3522876268409818\n",
      "Стандартное отклонение Sports: 1.6760838906252415\n"
     ]
    }
   ],
   "source": [
    "# добавили условия user_score !=\"NaN\", так как из-за наличия в выборках значений NaN, \n",
    "# функция ttest_ind работала неправильно и выдавала p-value = nan\n",
    "action_rating = actual_data.query('genre == \"Action\" and user_score != \"NaN\"')['user_score']\n",
    "print('Средний пользовательский рейтинг жанра Action:', action_rating.mean())\n",
    "\n",
    "sports_rating = actual_data.query('genre == \"Sports\" and user_score != \"NaN\"')['user_score']\n",
    "print('Средний пользовательский рейтинг жанра Sports', sports_rating.mean())\n",
    "\n",
    "print('Стандартное отклонение Action:', np.std(action_rating))\n",
    "print('Стандартное отклонение Sports:', np.std(sports_rating))"
   ]
  },
  {
   "cell_type": "code",
   "execution_count": 592,
   "metadata": {},
   "outputs": [
    {
     "name": "stdout",
     "output_type": "stream",
     "text": [
      "p-значение: 4.540665510055229e-11\n",
      "Отвергаем нулевую гипотезу\n"
     ]
    }
   ],
   "source": [
    "results = st.ttest_ind(action_rating, sports_rating, equal_var = False)\n",
    "\n",
    "print('p-значение:', results.pvalue)\n",
    "\n",
    "if (results.pvalue < 0.05):\n",
    "    print(\"Отвергаем нулевую гипотезу\")\n",
    "else:\n",
    "    print(\"Не отвергаем нулевую гипотезу\")"
   ]
  },
  {
   "cell_type": "markdown",
   "metadata": {},
   "source": [
    "Гипотеза была отвергнута, значит склоняемся к альтернативной гипотезе. Средние пользовательские рейтинги жанров Action и Sports разные, как и предполагалось.\n",
    "\n",
    "Ситуация в выборе критерия в точности аналогична предыдущей."
   ]
  },
  {
   "cell_type": "markdown",
   "metadata": {},
   "source": [
    "## Общий вывод\n",
    "\n",
    "В ходе работы мы выяснили следующее:\n",
    "1. Больше всего игр вышло с 2003 по 2009 годы. Пик приходится на 2008 и 2009 годы. \n",
    "2. Самые большие продажи за всё время наблюдались у платформ PS, DS, Wii, PS3, X360 и PS2.\n",
    "3. Характерный срок за который появляются новые и исчезают старые платформы составляет 7 лет и 7 месяцев.\n",
    "4. Перспективные и неперспективные платформы:\n",
    "    - Неперспективные:\n",
    "        - Wii, X360, PS3, 3DS, PSV, WIIU\n",
    "    - Перспективные\n",
    "        - PS4, XOne, PC\n",
    "5. Оценки пользователей и критиков:\n",
    "    - Оценки пользователей не влияют на продажи платформ PS4, XOne, PC.\n",
    "    - Оценки критиков не сильно влияют на продажи платформ PS4, XOne, PC. Их влияние на PC меньше, чем на PS4, XOne.\n",
    "6. Прибыльность жанров:\n",
    "    - Самые прибыльные жанры: action, shooter, sport.\n",
    "    - Наименее прибыльные жанры: puzzle, strategy.\n",
    "    \n",
    "7. Самые популярные платформы по регионам.\n",
    "- Самые большие продажи зафиксированы в Северной Америке. Топ 5 платформ: (PS3, X360, Wii, PS4, DS)\n",
    "- В Европе почти в 2 раза меньше продаж, чем в Северной Америке. Топ 5 платформ:(DS, 3DS, PS3, PSP, Wii)\n",
    "- Япония отстаёт от Европы по продажам более чем в 2 раза. Топ 5 платформ:(DS, 3DS, PS3, PSP, Wii)\n",
    "- Регионы не относящиеся к Европе, Японии и Северной Америке находятся практически наравне с Японией. Топ 5 платформ: (PS3, X360, Wii, PS2, PS4)\n",
    "8. Самые популярные жанры по регионам.\n",
    "\n",
    "Рейтинг топ-5 жанров одинаковый для Европы, Северной Америки и Японии.<br>\n",
    "Эти жанры перечислены далее в формате от самых высоких продаж до самых низких:\n",
    "- Action\n",
    "- Sports\n",
    "- Shooter\n",
    "- Misc\n",
    "- Racing\n",
    "\n",
    "Единственное отличие топ-5 жанров в регионах не относящихся к Европе, Японии и Северной Америке - продажи по жанру Role-Playing здесь больше, чем по жанру Racing.\n",
    "\n",
    "Далее значения выстроены по убыванию:\n",
    "- Самые большие продажи зафиксированы в Северной Америке\n",
    "- Европа (в 1.5 раза меньше продаж)\n",
    "- Регионы не относящиеся к Европе, Японии и Северной Америке (отстаёт от Европы более чем в 2 раза)\n",
    "- Япония (практически наравне с регионами не относящимися к Европе, Японии и Северной Америке )\n",
    "\n",
    "9. Рейтинг оказывает слабое влияние на продажи в отдельном регионе, однако сиьлно влияет на продажи в целом.\n",
    "10. Средние пользовательские рейтинги платформ Xbox One и PC разные.\n",
    "11.  Средние пользовательские рейтинги жанров Action и Sports разные.\n",
    "\n",
    "Подводя итог из всего указанного выше, отмечается:\n",
    "\n",
    "Наибольшее влияние на видеоигры оказывают следующие факторы:\n",
    "- Год выхода игры\n",
    "- Платформа\n",
    "- Регион\n",
    "- Жанр игры\n",
    "- Рейтинг критиков\n",
    "- Рейтинг ассоциации, определяющей возрастной рейтинг компьютерных игр\n",
    "\n",
    "Предположительно наиболее продаваемыми будут игры, обладающие следующими свойствами (все свойства указаны в порядке \"от лучшего к худшему\"):\n",
    "1. Относящиеся к жанрам: Action, Sports, Shooter, Misc, Racing\n",
    "2. Расположенные на платформах: PS4, XOne, PC\n",
    "3. Рейтинг ассоциации, определяющей возрастной рейтинг компьютерных игр которых: E, M, T, E10+\n",
    "4. Отдельно следует отметить, что Число продаж по регионам расположено в следующем порядке (по тому же принципу, что и все свойства): Северная Амарика, Европа, Япония, регионы не относящиеся к Европе, Японии и Северной Америке"
   ]
  },
  {
   "cell_type": "markdown",
   "metadata": {},
   "source": [
    "## Итоги работы\n",
    "\n",
    "В ходе работы были выполнены следующие действия:\n",
    "\n",
    "1. Обнаружены данные требующие обработки.\n",
    "2. Приведены к нормальному виду названия столбцов данных\n",
    "3. Преобразованы типы данных в столбцах `user_score` и `year_of_release`\n",
    "4. Обработаны где нужно пустые значения\n",
    "5. Добавлен столбец `total_sales` содержащий информацию о продажах во всех регионах\n",
    "6. Разобрано и исправлено значение `tbd` в столбце с оценкой пользователей\n",
    "7. выделен период, в который вышло наибольшее число игр\n",
    "8. Выделен характерный срок за который появляются новые и исчезают старые платформы\n",
    "9. Выделены платформы с самыми крупными продажами\n",
    "10. Выделены перспективные и неперспективные платформы\n",
    "11. Оценено влияние оценок критиков и пользователей\n",
    "12. Выделены наиболее и наименее прибыльные жанры\n",
    "13. Выделены самые популярные платформы по регионам\n",
    "14. Выделены самые популярные жанры по регионам\n",
    "15. Оценено влияние рейтинга на продажи как в отдельном регионе, так и в целом\n",
    "16. Проверена гипотеза о средних пользовательских рейтингах платформ Xbox One и PC\n",
    "17. Проверена гипотеза о средних пользовательских рейтингах жанров Action и Sports"
   ]
  }
 ],
 "metadata": {
  "kernelspec": {
   "display_name": "Python 3",
   "language": "python",
   "name": "python3"
  },
  "language_info": {
   "codemirror_mode": {
    "name": "ipython",
    "version": 3
   },
   "file_extension": ".py",
   "mimetype": "text/x-python",
   "name": "python",
   "nbconvert_exporter": "python",
   "pygments_lexer": "ipython3",
   "version": "3.8.5"
  }
 },
 "nbformat": 4,
 "nbformat_minor": 4
}
